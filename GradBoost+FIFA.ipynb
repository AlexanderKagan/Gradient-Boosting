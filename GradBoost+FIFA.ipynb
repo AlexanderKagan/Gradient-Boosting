{
 "cells": [
  {
   "cell_type": "markdown",
   "metadata": {},
   "source": [
    "# Собственный класс градиентного бустинга и его применение на датасете игроков FIFA Ultimate Team\n"
   ]
  },
  {
   "cell_type": "code",
   "execution_count": 11,
   "metadata": {
    "collapsed": true
   },
   "outputs": [],
   "source": [
    "import tqdm\n",
    "import numpy as np\n",
    "from scipy.special import expit as sigmoid\n",
    "from sklearn.tree import DecisionTreeRegressor\n",
    "from sklearn.base import BaseEstimator\n",
    "from sklearn.model_selection import train_test_split\n",
    "\n",
    "\n",
    "import matplotlib.pyplot as plt\n",
    "%matplotlib inline\n",
    "import seaborn as sns\n",
    "sns.set_style('whitegrid')"
   ]
  },
  {
   "cell_type": "markdown",
   "metadata": {},
   "source": [
    "## Часть 1. Реализация градиентного бустинга"
   ]
  },
  {
   "cell_type": "markdown",
   "metadata": {},
   "source": [
    "### 1. Функции потерь"
   ]
  },
  {
   "cell_type": "markdown",
   "metadata": {},
   "source": [
    "Начнем с функций потерь. Нам нужны будут две функции потерь, одна для задачи классификации и одна для задачи регрессии. Для каждой из них напишем отдельный класс, который позволит вычислять как саму функцию потерь, так и ее градиент."
   ]
  },
  {
   "cell_type": "markdown",
   "metadata": {},
   "source": [
    "#### 1.1. Базовый класс Loss"
   ]
  },
  {
   "cell_type": "markdown",
   "metadata": {},
   "source": [
    "Сначала напишем базовый класс `Loss`, от которого будем наследоваться при написании функций потерь.\n",
    "Вычисление значения функции потерь будет производиться в методе `forward`, а градиента - в методе `backward`.\n",
    "\n",
    "Метод `forward` должен получать на вход два вектора: вектор целевых переменных и вектор предсказаний модели.\n",
    "Метод должен: \n",
    "* проверять, что длины векторов совпадают (с помощью `assert`)\n",
    "* возвращать вектор той же длины, содержащий значения функции потерь для каждого из объектов\n",
    "\n",
    "Метод `grad` должен делать то же самое, но возвращать значение градиента функции потерь."
   ]
  },
  {
   "cell_type": "code",
   "execution_count": 1,
   "metadata": {
    "collapsed": true
   },
   "outputs": [],
   "source": [
    "class Loss(object):\n",
    "    \n",
    "    def __call__(self, y, p):\n",
    "        \"\"\"\n",
    "        Call and use .forward()\n",
    "        :param y: array-like targets\n",
    "        :param p: array-like predictions\n",
    "        :return array-like loss values\n",
    "        \"\"\"\n",
    "        return self.forward(y, p)\n",
    "        \n",
    "    def forward(self, y, p):\n",
    "        \"\"\"\n",
    "        Calculate loss value\n",
    "        :param y: array-like targets\n",
    "        :param p: array-like predictions\n",
    "        :return array-like loss values\n",
    "        \"\"\"\n",
    "        raise NotImplementedError\n",
    "        \n",
    "    def grad(self, y, p):\n",
    "        \"\"\"\n",
    "        Calculate grad value\n",
    "        :param y: array-like targets\n",
    "        :param p: array-like predictions\n",
    "        :return array-like grad values\n",
    "        \"\"\"\n",
    "        raise NotImplementedError"
   ]
  },
  {
   "cell_type": "markdown",
   "metadata": {},
   "source": [
    "#### 1.2. Функция потерь для задачи регрессии (MSE)"
   ]
  },
  {
   "cell_type": "markdown",
   "metadata": {},
   "source": [
    "Для задачи регрессии будем использовать `Mean Squared Error (MSE)`:\n",
    "\n",
    "$$L = MSE(y,p) = \\frac{1}{2n}(y - p) ^ 2$$\n",
    "\n",
    "Ее градиент:\n",
    "$$\\frac{\\partial L}{\\partial p} = \\frac{1}{n}(p - y)$$\n",
    "\n",
    "В формулах выше `p` - предсказания модели."
   ]
  },
  {
   "cell_type": "code",
   "execution_count": 13,
   "metadata": {
    "collapsed": true
   },
   "outputs": [],
   "source": [
    "class MSELoss(Loss):\n",
    "    \n",
    "    def forward(self, y, p):\n",
    "        assert len(y) == len (p), '%s is not the same length as %s'% (y, p)\n",
    "        return 0.5 / len(y) * (y - p) ** 2\n",
    "    \n",
    "    def grad(self, y, p):\n",
    "        assert len(y) == len (p), '%s is not the same length as %s'% (y, p)\n",
    "        return (p - y) #не делю на n, так как ухудшает сходимость!"
   ]
  },
  {
   "cell_type": "markdown",
   "metadata": {},
   "source": [
    "Для проверки корректности своего кода используйте ячейку ниже.\n",
    "\n",
    "*Код в ячейках ниже должен выполняться без ошибок.*"
   ]
  },
  {
   "cell_type": "code",
   "execution_count": 14,
   "metadata": {
    "collapsed": true
   },
   "outputs": [],
   "source": [
    "mse_loss = MSELoss()\n",
    "\n",
    "ys = np.array((10, 20, 30))\n",
    "ps = np.array((5, 25, 30))\n",
    "\n",
    "np.testing.assert_raises(AssertionError, mse_loss, np.asarray([1, 2, 3]), np.asarray([1, 2, 3, 4, 5]))\n",
    "np.testing.assert_raises(AssertionError, mse_loss.grad, np.asarray([1, 2, 3]), np.asarray([1, 2, 3, 4, 5]))\n",
    "\n",
    "np.testing.assert_almost_equal(mse_loss(ys, ps), np.asarray([4.16667, 4.1666, 0]), decimal=4)\n",
    "np.testing.assert_almost_equal(mse_loss.grad(ys / len(ys), ps / len(ps)), np.asarray([-1.66667, 1.66667, 0]), decimal=4)"
   ]
  },
  {
   "cell_type": "markdown",
   "metadata": {},
   "source": [
    "Если ошибок нет, можно переходить к следующей части."
   ]
  },
  {
   "cell_type": "markdown",
   "metadata": {},
   "source": [
    "#### 1.3. Функция потерь для задачи классификации (BCE)"
   ]
  },
  {
   "cell_type": "markdown",
   "metadata": {},
   "source": [
    "Для задачи регрессии будем использовать `Binary Cross-Entropy (BCE)`:\n",
    "$$L = BCE(y,p) = \\frac{1}{n}(-y \\log{p} - (1-y)\\log{(1-p)})$$\n",
    "\n",
    "Ее градиент по `p`:\n",
    "$$\\frac{\\partial L}{\\partial p} = \\frac{(p - y)}{p(1-p)}$$\n",
    "\n",
    "Вспомним, что для вычисления `p` используется сигмоида:\n",
    "$$p = \\sigma (z) = \\frac{1}{1 + \\exp (-z)}$$\n",
    "$$\\sigma (z)' = \\sigma (z) (1 - \\sigma (z))$$\n",
    "\n",
    "Подставив последнее выражение в градиент функции потерь, получим аналогичное `MSE` выражение:\n",
    "$$\\frac{\\partial L}{\\partial z} = \\frac{1}{n}(z - y)$$\n",
    "\n",
    "В формулах выше `z` - предсказания модели до применения сигмоиды, `p` - после.\n",
    "\n",
    "**Важно:** для дальнейшего удобства методы `forward` и `grad` в качестве предсказаний должны получать `z`, **активации** модели, то есть результат вычислений модели без взятия сигмоиды от них; сигмоидальное преобразования реализуется внутри этих методов (см.код).\n",
    "\n",
    "**Важно:** не забудьте при вычислении логарифмов добавить отсечку значений аргумента значениями (`eps`, 1 - `eps`) в избежание ошибок арифметики."
   ]
  },
  {
   "cell_type": "code",
   "execution_count": null,
   "metadata": {
    "collapsed": true
   },
   "outputs": [],
   "source": []
  },
  {
   "cell_type": "code",
   "execution_count": 15,
   "metadata": {
    "collapsed": true
   },
   "outputs": [],
   "source": [
    "class BCEWithLogitsLoss(Loss):\n",
    "    \n",
    "\n",
    "\n",
    "    def forward(self, y, z):\n",
    "        eps = 1e-5\n",
    "        p = sigmoid(z)\n",
    "        assert len(y) == len (p), '%s is not the same length as %s'% (y, p)\n",
    "        p[p <= 0] = eps\n",
    "        p[p >= 1] = 1 - eps\n",
    "        return - 1 / len(y) * (y * np.log(p) + (1 - y) * np.log(1-p))\n",
    "    \n",
    "    def grad(self, y, z):\n",
    "        eps = 1e-5\n",
    "        p = sigmoid(z)\n",
    "        assert len(y) == len (p), '%s is not the same length as %s'% (y, p)\n",
    "        p[p <= 0] = eps\n",
    "        p[p >= 1] = 1 - eps\n",
    "        return (p - y) / len(y)"
   ]
  },
  {
   "cell_type": "markdown",
   "metadata": {},
   "source": [
    "Для проверки корректности своего кода используйте ячейку ниже.\n",
    "\n",
    "*Код в ячейках ниже должен выполняться без ошибок.*"
   ]
  },
  {
   "cell_type": "code",
   "execution_count": 16,
   "metadata": {
    "collapsed": true
   },
   "outputs": [],
   "source": [
    "bce_loss = BCEWithLogitsLoss()\n",
    "\n",
    "ys = np.array((1, 0, 0))\n",
    "zs = np.array((0.0, 100.0, 1.0))\n",
    "\n",
    "np.testing.assert_raises(AssertionError, bce_loss, np.asarray([1, 2, 3]), np.asarray([1, 2, 3, 4, 5]))\n",
    "np.testing.assert_raises(AssertionError, bce_loss.grad, np.asarray([1, 2, 3]), np.asarray([1, 2, 3, 4, 5]))\n",
    "\n",
    "np.testing.assert_array_less(bce_loss(ys, zs), np.inf)\n",
    "\n",
    "np.testing.assert_almost_equal(bce_loss(ys, zs), np.asarray([0.231 , 3.8376, 0.4378]), decimal=4)\n",
    "np.testing.assert_almost_equal(bce_loss.grad(ys, zs), np.asarray([-0.1667,  0.3333,  0.2437]), decimal=4)"
   ]
  },
  {
   "cell_type": "markdown",
   "metadata": {},
   "source": [
    "Если ошибок нет, можно переходить к следующей части."
   ]
  },
  {
   "cell_type": "markdown",
   "metadata": {},
   "source": [
    "### 2. Градиентный бустинг"
   ]
  },
  {
   "cell_type": "markdown",
   "metadata": {},
   "source": [
    "#### 2.1. Класс GradentBoosting\n",
    "После того, как были получены классы для функций потерь, можно приступать к реализации класса для градиентного бустинга `GradientBoosting`.\n",
    "В качестве базовых моделей будем использовать деревья решений (`DecisionTreeRegressor` из `sklearn.tree`).\n",
    "Итоговый вид композиции:\n",
    "$$a(x) = \\sum_{t=1}^{T}\\eta * b_{t}(x)$$\n",
    "\n",
    "Параметры класса (аргументы метода `__init__()`):\n",
    "* `loss`: объект одного из двух классов, реализованных выше (`MSELoss` или `BCELoss`), будет определять поведение при вызове метода `predict()`.\n",
    "* `n_estimators`: число деревьев `T` (итераций бустинга)\n",
    "* `learning_rate`: темп обучения (коэффициент $\\eta$)\n",
    "* `max_depth`: максимальная глубина построенных деревьев (параметр `DecisionTreeRegressor`)\n",
    "* `max_features`: число признаков для поиска наилучшего разбиения в узле (параметр `DecisionTreeRegressor`)\n",
    "\n",
    "В методе `__init__()` создаются списки для хранения отдельных деревьев (`self.estimators`) и значений функции потерь на каждом шаге (`self.loss_values`).\n",
    "Также имеется дополнительное поле `self.loss_values_evalset`, в котором можно хранить значения функции потерь на отложенной (`evalset`) выборке по итерациям.\n",
    "\n",
    "Метод `fit(X, y, X_eval=None, y_eval=None)` должен:\n",
    "* Инициализировать \"нулевое приближение\" средним значением целевой переменной, считать значение потерь при нем\n",
    "* Итерируясь по числу деревьев:\n",
    "  * Вычислять **антиградиент** функции потерь построенной композиции по каждому объекту (остатки), создавать новое дерево, обучать его на полученных остатках и добавлять в список деревьев.\n",
    "  * Вычислять новое значение предсказания композиции для обучающей выборки (добавлением ответов нового дерева с весом $\\eta$)\n",
    "  * Считать новое значение функции потерь (суммарно по всем объектам) и добавлять в список\n",
    "* В случае, если методу передаются также `X_eval` и `y_eval`, нужно вычислять значение функции потерь на этом множестве на каждой итерации.\n",
    "  \n",
    "Метод `predict(X)` должен:\n",
    "* Для каждого объекта из `X` делать предсказание с помощью всех деревьев композиции  (**не забывайте про \"нулевое приближение\"**) и суммировать их\n",
    "* Если решается задача классификации, применять сигмоиду на полученных ответах"
   ]
  },
  {
   "cell_type": "code",
   "execution_count": 17,
   "metadata": {
    "collapsed": true
   },
   "outputs": [],
   "source": [
    "class GradientBoosting(BaseEstimator):\n",
    "    \n",
    "    def __init__(self, \n",
    "                 loss=None,\n",
    "                 n_estimators=10, \n",
    "                 learning_rate=0.1,\n",
    "                 max_depth=3,\n",
    "                 max_features='auto',\n",
    "                 random_state=2):\n",
    "        self.loss = loss\n",
    "        \n",
    "        self.learning_rate = learning_rate\n",
    "        self.n_estimators = n_estimators\n",
    "        \n",
    "        self.max_depth = max_depth\n",
    "        self.max_features = max_features\n",
    "        \n",
    "        self.estimators = []\n",
    "        self.loss_values = []\n",
    "        self.loss_values_evalset = []\n",
    "        \n",
    "        self.random_state = random_state\n",
    "    \n",
    "    def fit(self, X_train, y_train, X_evalset=[], y_evalset=[], verbose=False, patience=3, decrease_treshold=0.001): \n",
    "        iter_prediction = np.array([y_train.mean() for i in range (len(y_train))])\n",
    "        iter_loss = self.loss.forward(y_train, iter_prediction)\n",
    "        self.loss_values.append(iter_loss.sum())\n",
    "        self.estimators.append(iter_prediction)\n",
    "        if len(y_evalset) != 0:\n",
    "            iter_prediction_eval = np.array([y_evalset.mean() for i in range (len(y_evalset))])\n",
    "        for t in range(1, self.n_estimators):\n",
    "            antigradient = - self.loss.grad(y_train, iter_prediction)\n",
    "            tree = DecisionTreeRegressor (max_depth=self.max_depth, \\\n",
    "                                          max_features=self.max_features, \\\n",
    "                                          random_state=self.random_state). \\\n",
    "                                        fit(X_train, antigradient)\n",
    "            self.estimators.append(tree)\n",
    "            iter_prediction += self.learning_rate * tree.predict(X_train)\n",
    "            iter_loss = self.loss.forward(y_train, iter_prediction)\n",
    "            self.loss_values.append(iter_loss.sum())\n",
    "            if verbose == True and t % 10 == 0:\n",
    "                print ('Iter # %s:' %t, 'Loss value: %s' %self.loss_values[-1])\n",
    "            if len(y_evalset) != 0:\n",
    "                iter_prediction_eval += tree.predict(X_evalset)\n",
    "                iter_loss_eval = self.loss.forward(y_evalset, iter_prediction_eval)\n",
    "                self.loss_values_evalset.append(iter_loss_eval.sum())\n",
    "                if t % 10 == 0 and verbose == True:\n",
    "                    print('Loss on evalset: %s' %self.loss_values_evalset[-1])\n",
    "    \n",
    "    def predict(self, X):\n",
    "        #prediction = self.estimators[0][:X.shape[0]]\n",
    "        prediction = np.zeros(X.shape[0])\n",
    "        for tree in self.estimators[1:]:\n",
    "            prediction += self.learning_rate * tree.predict(X)\n",
    "        return prediction\n",
    "        "
   ]
  },
  {
   "cell_type": "markdown",
   "metadata": {},
   "source": [
    "#### 2.2. Тестирование класса GradientBoosting"
   ]
  },
  {
   "cell_type": "markdown",
   "metadata": {},
   "source": [
    "##### 2.2.1. Интерфейс\n",
    "*Код в ячейках ниже должен выполняться без ошибок.*"
   ]
  },
  {
   "cell_type": "code",
   "execution_count": 18,
   "metadata": {
    "collapsed": true
   },
   "outputs": [],
   "source": [
    "X_test = np.random.uniform(size=(100, 2))\n",
    "y_test = np.random.uniform(size=100)\n",
    "\n",
    "gb_test = GradientBoosting(loss=MSELoss(), n_estimators=100)\n",
    "gb_test.fit(X_test, y_test)"
   ]
  },
  {
   "cell_type": "code",
   "execution_count": 19,
   "metadata": {
    "collapsed": true
   },
   "outputs": [],
   "source": [
    "assert len(gb_test.estimators) == gb_test.n_estimators\n",
    "assert gb_test.predict(X_test).shape == y_test.shape"
   ]
  },
  {
   "cell_type": "markdown",
   "metadata": {},
   "source": [
    "Сгенерируем случайную выборку и убедимся, что функция потерь уменьшается при увеличении итераций.\n",
    "\n",
    "*Код в ячейках ниже должен выполняться без ошибок.*"
   ]
  },
  {
   "cell_type": "markdown",
   "metadata": {},
   "source": [
    "##### 2.2.2. Регрессия"
   ]
  },
  {
   "cell_type": "code",
   "execution_count": 20,
   "metadata": {},
   "outputs": [
    {
     "data": {
      "image/png": "[encoded data removed]",
      "text/plain": [
       "<Figure size 432x288 with 1 Axes>"
      ]
     },
     "metadata": {},
     "output_type": "display_data"
    }
   ],
   "source": [
    "X_test = np.random.uniform(size=(100, 2))\n",
    "y_test = np.random.uniform(size=100)\n",
    "\n",
    "gb_test = GradientBoosting(loss=MSELoss(), n_estimators=100)\n",
    "gb_test.fit(X_test, y_test)\n",
    "\n",
    "loss_values = gb_test.loss_values\n",
    "plt.plot(loss_values)\n",
    "np.testing.assert_array_equal(loss_values, sorted(loss_values, reverse=True))"
   ]
  },
  {
   "cell_type": "markdown",
   "metadata": {},
   "source": [
    "##### 2.2.3. Классификация"
   ]
  },
  {
   "cell_type": "code",
   "execution_count": 21,
   "metadata": {},
   "outputs": [
    {
     "data": {
      "image/png": "[encoded data removed]",
      "text/plain": [
       "<Figure size 432x288 with 1 Axes>"
      ]
     },
     "metadata": {},
     "output_type": "display_data"
    }
   ],
   "source": [
    "X_test = np.random.uniform(size=(100, 2))\n",
    "y_test = np.random.binomial(1, 0.5, size=100)\n",
    "\n",
    "gb_test = GradientBoosting(loss=BCEWithLogitsLoss(), n_estimators=100)\n",
    "gb_test.fit(X_test, y_test)\n",
    "\n",
    "loss_values = gb_test.loss_values\n",
    "plt.plot(loss_values)\n",
    "np.testing.assert_array_equal(loss_values, sorted(loss_values, reverse=True))"
   ]
  },
  {
   "cell_type": "markdown",
   "metadata": {},
   "source": [
    "### 3. Использование класса GradientBoosting"
   ]
  },
  {
   "cell_type": "markdown",
   "metadata": {},
   "source": [
    "Проверим, как работает наш бустинг на двух задачах - регрессии и классификации на 2 класса.\n",
    "Для этого будем использовать игрушечные выборки, полученные с помощью `sklearn.datasets.make_regression` и `sklearn.datasets.make_classificaiton`."
   ]
  },
  {
   "cell_type": "code",
   "execution_count": 22,
   "metadata": {
    "collapsed": true
   },
   "outputs": [],
   "source": [
    "from sklearn.metrics import accuracy_score, mean_squared_error"
   ]
  },
  {
   "cell_type": "markdown",
   "metadata": {},
   "source": [
    "#### 3.1. Задача регрессии"
   ]
  },
  {
   "cell_type": "code",
   "execution_count": 23,
   "metadata": {
    "collapsed": true
   },
   "outputs": [],
   "source": [
    "from sklearn.datasets import make_regression\n",
    "X, y = make_regression(n_samples=100, n_features=2, random_state=2)\n",
    "X_train, X_val, y_train, y_val = train_test_split(X, y, test_size=0.2, random_state=2)"
   ]
  },
  {
   "cell_type": "code",
   "execution_count": 24,
   "metadata": {},
   "outputs": [
    {
     "name": "stdout",
     "output_type": "stream",
     "text": [
      "Iter # 10: Loss value: 2.806925807226479\n",
      "Loss on evalset: 124.96904212004792\n",
      "Iter # 20: Loss value: 0.19805745981229372\n",
      "Loss on evalset: 116.92133242249149\n",
      "Iter # 30: Loss value: 0.017310059714994334\n",
      "Loss on evalset: 117.90013919790786\n",
      "Iter # 40: Loss value: 0.0026099669324611456\n",
      "Loss on evalset: 117.6705256699327\n",
      "Iter # 50: Loss value: 0.0002338105644218913\n",
      "Loss on evalset: 117.88277135831198\n",
      "Iter # 60: Loss value: 3.371777929125901e-05\n",
      "Loss on evalset: 117.97015865791762\n",
      "Iter # 70: Loss value: 2.889430551314456e-06\n",
      "Loss on evalset: 117.95891774979023\n",
      "Iter # 80: Loss value: 3.256360307171583e-07\n",
      "Loss on evalset: 117.96987132308246\n",
      "Iter # 90: Loss value: 4.410230625611496e-08\n",
      "Loss on evalset: 117.97365723524979\n",
      "Iter # 100: Loss value: 4.4102306256118714e-08\n",
      "Loss on evalset: 117.97365723524979\n",
      "Iter # 110: Loss value: 4.4102306256118714e-08\n",
      "Loss on evalset: 117.97365723524979\n",
      "Iter # 120: Loss value: 4.4102306256118714e-08\n",
      "Loss on evalset: 117.97365723524979\n",
      "Iter # 130: Loss value: 4.4102306256118714e-08\n",
      "Loss on evalset: 117.97365723524979\n",
      "Iter # 140: Loss value: 4.4102306256118714e-08\n",
      "Loss on evalset: 117.97365723524979\n",
      "Iter # 150: Loss value: 4.4102306256118714e-08\n",
      "Loss on evalset: 117.97365723524979\n",
      "Iter # 160: Loss value: 4.4102306256118714e-08\n",
      "Loss on evalset: 117.97365723524979\n",
      "Iter # 170: Loss value: 4.4102306256118714e-08\n",
      "Loss on evalset: 117.97365723524979\n",
      "Iter # 180: Loss value: 4.4102306256118714e-08\n",
      "Loss on evalset: 117.97365723524979\n",
      "Iter # 190: Loss value: 4.4102306256118714e-08\n",
      "Loss on evalset: 117.97365723524979\n",
      "Iter # 200: Loss value: 4.4102306256118714e-08\n",
      "Loss on evalset: 117.97365723524979\n",
      "Iter # 210: Loss value: 4.4102306256118714e-08\n",
      "Loss on evalset: 117.97365723524979\n",
      "Iter # 220: Loss value: 4.4102306256118714e-08\n",
      "Loss on evalset: 117.97365723524979\n",
      "Iter # 230: Loss value: 4.4102306256118714e-08\n",
      "Loss on evalset: 117.97365723524979\n",
      "Iter # 240: Loss value: 4.4102306256118714e-08\n",
      "Loss on evalset: 117.97365723524979\n",
      "Iter # 250: Loss value: 4.4102306256118714e-08\n",
      "Loss on evalset: 117.97365723524979\n",
      "Iter # 260: Loss value: 4.4102306256118714e-08\n",
      "Loss on evalset: 117.97365723524979\n",
      "Iter # 270: Loss value: 4.4102306256118714e-08\n",
      "Loss on evalset: 117.97365723524979\n",
      "Iter # 280: Loss value: 4.4102306256118714e-08\n",
      "Loss on evalset: 117.97365723524979\n",
      "Iter # 290: Loss value: 4.4102306256118714e-08\n",
      "Loss on evalset: 117.97365723524979\n",
      "Iter # 300: Loss value: 4.4102306256118714e-08\n",
      "Loss on evalset: 117.97365723524979\n",
      "Iter # 310: Loss value: 4.4102306256118714e-08\n",
      "Loss on evalset: 117.97365723524979\n",
      "Iter # 320: Loss value: 4.4102306256118714e-08\n",
      "Loss on evalset: 117.97365723524979\n",
      "Iter # 330: Loss value: 4.4102306256118714e-08\n",
      "Loss on evalset: 117.97365723524979\n",
      "Iter # 340: Loss value: 4.4102306256118714e-08\n",
      "Loss on evalset: 117.97365723524979\n",
      "Iter # 350: Loss value: 4.4102306256118714e-08\n",
      "Loss on evalset: 117.97365723524979\n",
      "Iter # 360: Loss value: 4.4102306256118714e-08\n",
      "Loss on evalset: 117.97365723524979\n",
      "Iter # 370: Loss value: 4.4102306256118714e-08\n",
      "Loss on evalset: 117.97365723524979\n",
      "Iter # 380: Loss value: 4.4102306256118714e-08\n",
      "Loss on evalset: 117.97365723524979\n",
      "Iter # 390: Loss value: 4.4102306256118714e-08\n",
      "Loss on evalset: 117.97365723524979\n",
      "Iter # 400: Loss value: 4.4102306256118714e-08\n",
      "Loss on evalset: 117.97365723524979\n",
      "Iter # 410: Loss value: 4.4102306256118714e-08\n",
      "Loss on evalset: 117.97365723524979\n",
      "Iter # 420: Loss value: 4.4102306256118714e-08\n",
      "Loss on evalset: 117.97365723524979\n",
      "Iter # 430: Loss value: 4.4102306256118714e-08\n",
      "Loss on evalset: 117.97365723524979\n",
      "Iter # 440: Loss value: 4.4102306256118714e-08\n",
      "Loss on evalset: 117.97365723524979\n",
      "Iter # 450: Loss value: 4.4102306256118714e-08\n",
      "Loss on evalset: 117.97365723524979\n",
      "Iter # 460: Loss value: 4.4102306256118714e-08\n",
      "Loss on evalset: 117.97365723524979\n",
      "Iter # 470: Loss value: 4.4102306256118714e-08\n",
      "Loss on evalset: 117.97365723524979\n",
      "Iter # 480: Loss value: 4.4102306256118714e-08\n",
      "Loss on evalset: 117.97365723524979\n",
      "Iter # 490: Loss value: 4.4102306256118714e-08\n",
      "Loss on evalset: 117.97365723524979\n"
     ]
    }
   ],
   "source": [
    "gb_regressor = GradientBoosting(loss=MSELoss(), n_estimators=500, learning_rate=1.0, max_depth=3)\n",
    "gb_regressor.fit(X, y, X_evalset=X_val, y_evalset=y_val, verbose=True)"
   ]
  },
  {
   "cell_type": "code",
   "execution_count": 25,
   "metadata": {},
   "outputs": [
    {
     "data": {
      "image/png": "[encoded data removed]",
      "text/plain": [
       "<Figure size 1296x288 with 1 Axes>"
      ]
     },
     "metadata": {},
     "output_type": "display_data"
    }
   ],
   "source": [
    "plt.figure(figsize=(18, 4))\n",
    "plt.plot(gb_regressor.loss_values, label='train loss')\n",
    "plt.plot(gb_regressor.loss_values_evalset, label='evalset loss')\n",
    "plt.legend()\n",
    "plt.show()"
   ]
  },
  {
   "cell_type": "markdown",
   "metadata": {},
   "source": [
    "На рисунке выше вы должны видеть два графика - лосс на обучающей и на валидационной выборках по итерациям бустинга.\n",
    "\n",
    "Проверим, что наш бустинг действительно работает: сравним предсказание типа \"среднее по датасету\" с предсказаниями бустинга для обучающей и валидацонной выборок - после 500 итераций они должны отличаться как минимум в 100 раз.\n",
    "\n",
    "*Код в ячейках ниже должен выполняться без ошибок.*"
   ]
  },
  {
   "cell_type": "code",
   "execution_count": 26,
   "metadata": {},
   "outputs": [
    {
     "name": "stdout",
     "output_type": "stream",
     "text": [
      "MSE для предсказания среднего по выборке: 1648.606\n",
      "MSE для предсказаний бустинга: 0.081\n"
     ]
    }
   ],
   "source": [
    "# Train\n",
    "y_mean = np.mean(y_train) * np.ones_like(y_train)\n",
    "mse_baseline = mean_squared_error(y_train, y_mean)\n",
    "print('MSE для предсказания среднего по выборке: {:.3f}'.format(mse_baseline))\n",
    "\n",
    "y_pred = gb_regressor.predict(X_train)\n",
    "mse_boosting = mean_squared_error(y_train, y_pred)\n",
    "print('MSE для предсказаний бустинга: {:.3f}'.format(mse_boosting))\n",
    "\n",
    "np.testing.assert_array_less(mse_boosting, mse_baseline / 100)"
   ]
  },
  {
   "cell_type": "code",
   "execution_count": 27,
   "metadata": {},
   "outputs": [
    {
     "name": "stdout",
     "output_type": "stream",
     "text": [
      "MSE для предсказания среднего по выборке: 3531.394\n",
      "MSE для предсказаний бустинга: 0.081\n"
     ]
    }
   ],
   "source": [
    "# Val\n",
    "y_mean = np.mean(y_val) * np.ones_like(y_val)\n",
    "mse_baseline = mean_squared_error(y_val, y_mean)\n",
    "print('MSE для предсказания среднего по выборке: {:.3f}'.format(mse_baseline))\n",
    "\n",
    "y_pred = gb_regressor.predict(X_val)\n",
    "mse_boosting = mean_squared_error(y_val, y_pred)\n",
    "print('MSE для предсказаний бустинга: {:.3f}'.format(mse_boosting))\n",
    "\n",
    "np.testing.assert_array_less(mse_boosting, mse_baseline / 100)"
   ]
  },
  {
   "cell_type": "markdown",
   "metadata": {},
   "source": [
    "#### 3.2. Задача классификации"
   ]
  },
  {
   "cell_type": "code",
   "execution_count": 28,
   "metadata": {
    "collapsed": true
   },
   "outputs": [],
   "source": [
    "from sklearn.datasets import make_classification\n",
    "X, y = make_classification(n_samples=100, n_features=2, n_redundant=0, n_repeated=0, n_clusters_per_class=1, flip_y=0.25, random_state=2)\n",
    "X_train, X_val, y_train, y_val = train_test_split(X, y, test_size=0.2, random_state=2)"
   ]
  },
  {
   "cell_type": "code",
   "execution_count": 29,
   "metadata": {
    "collapsed": true
   },
   "outputs": [],
   "source": [
    "gb_classifier = GradientBoosting(loss=BCEWithLogitsLoss(), n_estimators=500, learning_rate=1.0, max_depth=3)\n",
    "gb_classifier.fit(X_train, y_train, X_evalset=X_val, y_evalset=y_val)"
   ]
  },
  {
   "cell_type": "code",
   "execution_count": 30,
   "metadata": {},
   "outputs": [
    {
     "data": {
      "image/png": "[encoded data removed]",
      "text/plain": [
       "<Figure size 1296x288 with 1 Axes>"
      ]
     },
     "metadata": {},
     "output_type": "display_data"
    }
   ],
   "source": [
    "plt.figure(figsize=(18, 4))\n",
    "plt.plot(gb_classifier.loss_values, label='train loss')\n",
    "plt.plot(gb_classifier.loss_values_evalset, label='evalset loss')\n",
    "plt.legend()\n",
    "plt.show()"
   ]
  },
  {
   "cell_type": "markdown",
   "metadata": {},
   "source": [
    "На рисунке выше вы должны видеть два графика - лосс на обучающей и на валидационной выборках по итерациям бустинга.\n",
    "\n",
    "Проверим, что наш бустинг действительно работает: сравним предсказание типа \"подбрасывание монетки\" с предсказаниями бустинга для обучающей и валидацонной выборок - после 500 итераций ошибка бустинга должна быть как минимум вдвое меньше.\n",
    "\n",
    "*Код в ячейках ниже должен выполняться без ошибок.*"
   ]
  },
  {
   "cell_type": "code",
   "execution_count": 31,
   "metadata": {},
   "outputs": [
    {
     "name": "stdout",
     "output_type": "stream",
     "text": [
      "Accuracy для случайного предсказания: 0.425\n",
      "Accuracy для предсказаний бустинга: 0.912\n"
     ]
    }
   ],
   "source": [
    "# Train\n",
    "y_random = np.random.binomial(1, 0.5, size=len(y_train))\n",
    "accuracy_baseline = accuracy_score(y_train, y_random)\n",
    "print('Accuracy для случайного предсказания: {:.3f}'.format(accuracy_baseline))\n",
    "\n",
    "y_pred = np.array(gb_classifier.predict(X_train) > 0.5, dtype=np.int)\n",
    "accuracy_boosting = accuracy_score(y_train, y_pred)\n",
    "print('Accuracy для предсказаний бустинга: {:.3f}'.format(accuracy_boosting))\n",
    "\n",
    "np.testing.assert_array_less(1 - accuracy_boosting, (1 - accuracy_baseline) / 2 + 1e-5)"
   ]
  },
  {
   "cell_type": "code",
   "execution_count": 32,
   "metadata": {},
   "outputs": [
    {
     "name": "stdout",
     "output_type": "stream",
     "text": [
      "Accuracy для случайного предсказания: 0.550\n",
      "Accuracy для предсказаний бустинга: 0.800\n"
     ]
    }
   ],
   "source": [
    "# Val\n",
    "y_random = np.random.binomial(1, 0.5, size=len(y_val))\n",
    "accuracy_baseline = accuracy_score(y_val, y_random)\n",
    "print('Accuracy для случайного предсказания: {:.3f}'.format(accuracy_baseline))\n",
    "\n",
    "y_pred = np.array(gb_classifier.predict(X_val) > 0.5, dtype=np.int)\n",
    "accuracy_boosting = accuracy_score(y_val, y_pred)\n",
    "print('Accuracy для предсказаний бустинга: {:.3f}'.format(accuracy_boosting))\n",
    "\n",
    "np.testing.assert_array_less(1 - accuracy_boosting, (1 - accuracy_baseline) / 2 + 1e-5)"
   ]
  },
  {
   "cell_type": "markdown",
   "metadata": {},
   "source": [
    "Если все тесты пройдены успешно, попробуйте реализовать дополнительный функционал для вашего класса:\n",
    "- Реализация ранней остановки обучения (1 балл)\n",
    "- Реализация вычисления дополнительной метрики качества на каждой итерации (1 балл)\n",
    "- Реализация бэггинга при обучении отдельных деревьев (1 балл)\n",
    "\n",
    "Для того, чтобы дополнительные баллы были засчитаны, необходимо реализовать функционал и продемонстрировать результат в ячейке внизу."
   ]
  },
  {
   "cell_type": "markdown",
   "metadata": {},
   "source": [
    "### MyBoost =  GradientBoosting + R2-score + EarlyStop (with patience)\n"
   ]
  },
  {
   "cell_type": "code",
   "execution_count": 33,
   "metadata": {
    "collapsed": true
   },
   "outputs": [],
   "source": [
    " class MyBoost(BaseEstimator):\n",
    "    \n",
    "    def __init__(self, \n",
    "                 loss=None,\n",
    "                 n_estimators=10, \n",
    "                 learning_rate=0.1,\n",
    "                 max_depth=3,\n",
    "                 max_features='auto',\n",
    "                 random_state=2,\n",
    "                 patience=3,\n",
    "                 decrease_treshold= 0.9995):\n",
    "        self.loss = loss\n",
    "        \n",
    "        self.learning_rate = learning_rate\n",
    "        self.n_estimators = n_estimators\n",
    "        \n",
    "        self.max_depth = max_depth\n",
    "        self.max_features = max_features\n",
    "        self.patience = patience\n",
    "        self.decrease_treshold = decrease_treshold\n",
    "        \n",
    "        self.estimators = []\n",
    "        self.loss_values = []\n",
    "        self.loss_values_evalset = []\n",
    "        \n",
    "        self.random_state = random_state\n",
    "    \n",
    "    def fit(self, X_train, y_train, X_evalset=[], y_evalset=[], verbose=True): \n",
    "        iter_prediction = np.array([y_train.mean() for i in range (len(y_train))])\n",
    "        iter_loss = self.loss.forward(y_train, iter_prediction)\n",
    "        self.loss_values.append(iter_loss.sum())\n",
    "        self.estimators.append(iter_prediction)\n",
    "        delta_loss = []\n",
    "        stop_start = max(self.n_estimators * 0.5, self.patience + 1)\n",
    "        if len(y_evalset) != 0:\n",
    "            iter_prediction_eval = np.array([y_evalset.mean() for i in range (len(y_evalset))])\n",
    "        for t in range(1, self.n_estimators):\n",
    "            antigradient = - self.loss.grad(y_train, iter_prediction)\n",
    "            tree = DecisionTreeRegressor (max_depth=self.max_depth, \\\n",
    "                                          max_features=self.max_features, \\\n",
    "                                          random_state=self.random_state). \\\n",
    "                                        fit(X_train, antigradient)\n",
    "            self.estimators.append(tree)\n",
    "            iter_prediction += self.learning_rate * tree.predict(X_train)\n",
    "            iter_loss = self.loss.forward(y_train, iter_prediction)\n",
    "            self.loss_values.append(iter_loss.sum())\n",
    "            if verbose == True and t % 10 == 0:\n",
    "                print ('Iter # %s:' %t, 'Loss value: %s' %self.loss_values[-1],  # добавлена R-2 метрика\n",
    "                       'R2-score: %s' %R2_score(y_train, iter_prediction))\n",
    "            if len(y_evalset) != 0:\n",
    "                iter_prediction_eval += tree.predict(X_evalset)\n",
    "                iter_loss_eval = self.loss.forward(y_evalset, iter_prediction_eval)\n",
    "                self.loss_values_evalset.append(iter_loss_eval.sum())\n",
    "                if t % 10 == 0 and verbose == True:\n",
    "                    print('Loss on evalset: %s' %self.loss_values_evalset[-1], \\\n",
    "                          'R2-score on evalset: %s' %R2_score(y_evalset, iter_prediction_eval))\n",
    "                if t >= stop_start - self.patience: \n",
    "                    delta_loss.append(abs(self.loss_values_evalset[-1] / self.loss_values_evalset[-2]))         #критерий остановки\n",
    "                if t >= stop_start and all([delta >= self.decrease_treshold for delta in delta_loss[-self.patience:]]):\n",
    "                    break \n",
    "    \n",
    "    def predict(self, X):\n",
    "        #prediction = self.estimators[0][:X.shape[0]]\n",
    "        prediction = np.zeros(X.shape[0])\n",
    "        for tree in self.estimators[1:]:\n",
    "            prediction += self.learning_rate * tree.predict(X)\n",
    "        return prediction\n"
   ]
  },
  {
   "cell_type": "code",
   "execution_count": 34,
   "metadata": {
    "collapsed": true
   },
   "outputs": [],
   "source": [
    "def R2_score (y, y_pred):\n",
    "    return 1 - ((y - y_pred) ** 2) .sum() / ((y - y.mean()) ** 2) .sum()"
   ]
  },
  {
   "cell_type": "code",
   "execution_count": 35,
   "metadata": {},
   "outputs": [
    {
     "data": {
      "text/plain": [
       "-3.0"
      ]
     },
     "execution_count": 35,
     "metadata": {},
     "output_type": "execute_result"
    }
   ],
   "source": [
    "R2_score (np.array([1,2]), np.array([2,3] ))"
   ]
  },
  {
   "cell_type": "markdown",
   "metadata": {},
   "source": [
    "## Часть 2. Решение задачи предсказания цены футболиста в FIFA 18 Ultimate Team"
   ]
  },
  {
   "cell_type": "markdown",
   "metadata": {},
   "source": [
    "Нужно обучить какой-либо из рассмотренных в курсе ансамблей предсказывать трансферную стоимость футболиста из FIFA 18 Ultimate Team. Решение будет оцениваться по метрике MSE на тестовой выборке. Засчитывается только решение, качество которого на тестовой выборке окажется выше, чем у бейзлайна (см. в конце ноутбука).\n",
    "\n",
    "Данные для обучения - `train_with_targets.csv`, столбец с целевой переменной - `price_ps4`.\n",
    "Для отправки решения заполните столбец `price_ps4` в файле `test_submission.csv` предсказаниями своей модели на признаках из файла `test.csv` (убедитесь, что порядок следования `player_id` верный)."
   ]
  },
  {
   "cell_type": "markdown",
   "metadata": {},
   "source": [
    "Для обучения моделей следует использовать:\n",
    "* \\*Свой класс для градиентного бустинга, реализованный выше\n",
    "* Любые ансамбли из `sklearn` (`RandomForestRegressor`, `GradientBoostingRegressor`, ...)\n",
    "* Любые фреймворки для градиентного бустинга (`XGBoost`, `LightGBM`, `CatBoost`, ...)\n",
    "* \\*Стекинг/блендинг (свой или тот, что был реализован на лекциях)\n",
    "* Подбор гиперпараметров с помощью `RandomizedSearch` / `hyperopt` / ... \n",
    "\n",
    "Использование пунктов со звездочкой может накинуть дополнительных баллов за задание (по 1 баллу за пункт, т.е. максимум 2 дополнительных балла).\n",
    "\n",
    "Удачи!\n",
    "\n",
    "*Ниже приведен пример бейзлайна на случайном лесе из `sklearn`.*"
   ]
  },
  {
   "cell_type": "markdown",
   "metadata": {},
   "source": [
    "### Baseline на RandomForestClassifier из Sklearn.ensemble"
   ]
  },
  {
   "cell_type": "code",
   "execution_count": 36,
   "metadata": {},
   "outputs": [
    {
     "data": {
      "text/html": [
       "<div>\n",
       "<style>\n",
       "    .dataframe thead tr:only-child th {\n",
       "        text-align: right;\n",
       "    }\n",
       "\n",
       "    .dataframe thead th {\n",
       "        text-align: left;\n",
       "    }\n",
       "\n",
       "    .dataframe tbody tr th {\n",
       "        vertical-align: top;\n",
       "    }\n",
       "</style>\n",
       "<table border=\"1\" class=\"dataframe\">\n",
       "  <thead>\n",
       "    <tr style=\"text-align: right;\">\n",
       "      <th></th>\n",
       "      <th>player_ID</th>\n",
       "      <th>player_name</th>\n",
       "      <th>player_extended_name</th>\n",
       "      <th>quality</th>\n",
       "      <th>revision</th>\n",
       "      <th>origin</th>\n",
       "      <th>overall</th>\n",
       "      <th>club</th>\n",
       "      <th>league</th>\n",
       "      <th>nationality</th>\n",
       "      <th>...</th>\n",
       "      <th>cam</th>\n",
       "      <th>cf</th>\n",
       "      <th>rf</th>\n",
       "      <th>lf</th>\n",
       "      <th>rw</th>\n",
       "      <th>lw</th>\n",
       "      <th>st</th>\n",
       "      <th>price_ps4</th>\n",
       "      <th>traits</th>\n",
       "      <th>specialties</th>\n",
       "    </tr>\n",
       "  </thead>\n",
       "  <tbody>\n",
       "    <tr>\n",
       "      <th>0</th>\n",
       "      <td>20920</td>\n",
       "      <td>Sacko</td>\n",
       "      <td>Hadi Sacko</td>\n",
       "      <td>Silver - Rare</td>\n",
       "      <td>Normal</td>\n",
       "      <td>Transfers</td>\n",
       "      <td>68</td>\n",
       "      <td>UD Las Palmas</td>\n",
       "      <td>LaLiga Santander</td>\n",
       "      <td>France</td>\n",
       "      <td>...</td>\n",
       "      <td>65.0</td>\n",
       "      <td>67.0</td>\n",
       "      <td>67.0</td>\n",
       "      <td>67.0</td>\n",
       "      <td>68.0</td>\n",
       "      <td>68.0</td>\n",
       "      <td>66.0</td>\n",
       "      <td>1000.0</td>\n",
       "      <td>Tries To Beat Defensive Line, Selfish, Dribble...</td>\n",
       "      <td>Speedster</td>\n",
       "    </tr>\n",
       "    <tr>\n",
       "      <th>1</th>\n",
       "      <td>2996</td>\n",
       "      <td>Koo Ja Ryong</td>\n",
       "      <td>Ja Ryong Koo</td>\n",
       "      <td>Silver - Rare</td>\n",
       "      <td>Normal</td>\n",
       "      <td>NaN</td>\n",
       "      <td>73</td>\n",
       "      <td>Suwon Samsung Bluewings</td>\n",
       "      <td>K LEAGUE Classic</td>\n",
       "      <td>Korea Republic</td>\n",
       "      <td>...</td>\n",
       "      <td>48.0</td>\n",
       "      <td>46.0</td>\n",
       "      <td>46.0</td>\n",
       "      <td>46.0</td>\n",
       "      <td>46.0</td>\n",
       "      <td>46.0</td>\n",
       "      <td>46.0</td>\n",
       "      <td>450.0</td>\n",
       "      <td>Leadership</td>\n",
       "      <td>NaN</td>\n",
       "    </tr>\n",
       "    <tr>\n",
       "      <th>2</th>\n",
       "      <td>12998</td>\n",
       "      <td>Gipson</td>\n",
       "      <td>Ken Gipson</td>\n",
       "      <td>Bronze</td>\n",
       "      <td>Normal</td>\n",
       "      <td>NaN</td>\n",
       "      <td>60</td>\n",
       "      <td>SV Sandhausen</td>\n",
       "      <td>Bundesliga 2</td>\n",
       "      <td>Germany</td>\n",
       "      <td>...</td>\n",
       "      <td>49.0</td>\n",
       "      <td>49.0</td>\n",
       "      <td>49.0</td>\n",
       "      <td>49.0</td>\n",
       "      <td>51.0</td>\n",
       "      <td>51.0</td>\n",
       "      <td>49.0</td>\n",
       "      <td>200.0</td>\n",
       "      <td>NaN</td>\n",
       "      <td>NaN</td>\n",
       "    </tr>\n",
       "    <tr>\n",
       "      <th>3</th>\n",
       "      <td>16112</td>\n",
       "      <td>Yoda</td>\n",
       "      <td>Abdoul Karim Yoda</td>\n",
       "      <td>Silver</td>\n",
       "      <td>Normal</td>\n",
       "      <td>Transfers</td>\n",
       "      <td>69</td>\n",
       "      <td>CF Reus</td>\n",
       "      <td>LaLiga 1 I 2 I 3</td>\n",
       "      <td>France</td>\n",
       "      <td>...</td>\n",
       "      <td>66.0</td>\n",
       "      <td>67.0</td>\n",
       "      <td>67.0</td>\n",
       "      <td>67.0</td>\n",
       "      <td>69.0</td>\n",
       "      <td>69.0</td>\n",
       "      <td>65.0</td>\n",
       "      <td>350.0</td>\n",
       "      <td>Flair, Technical Dribbler</td>\n",
       "      <td>NaN</td>\n",
       "    </tr>\n",
       "    <tr>\n",
       "      <th>4</th>\n",
       "      <td>16502</td>\n",
       "      <td>Ronan</td>\n",
       "      <td>Connor Ronan</td>\n",
       "      <td>Bronze - Rare</td>\n",
       "      <td>Normal</td>\n",
       "      <td>Transfers</td>\n",
       "      <td>64</td>\n",
       "      <td>Portsmouth</td>\n",
       "      <td>EFL League One</td>\n",
       "      <td>Republic of Ireland</td>\n",
       "      <td>...</td>\n",
       "      <td>63.0</td>\n",
       "      <td>61.0</td>\n",
       "      <td>61.0</td>\n",
       "      <td>61.0</td>\n",
       "      <td>63.0</td>\n",
       "      <td>63.0</td>\n",
       "      <td>56.0</td>\n",
       "      <td>200.0</td>\n",
       "      <td>NaN</td>\n",
       "      <td>NaN</td>\n",
       "    </tr>\n",
       "  </tbody>\n",
       "</table>\n",
       "<p>5 rows × 82 columns</p>\n",
       "</div>"
      ],
      "text/plain": [
       "   player_ID   player_name player_extended_name        quality revision  \\\n",
       "0      20920         Sacko           Hadi Sacko  Silver - Rare   Normal   \n",
       "1       2996  Koo Ja Ryong         Ja Ryong Koo  Silver - Rare   Normal   \n",
       "2      12998        Gipson           Ken Gipson         Bronze   Normal   \n",
       "3      16112          Yoda    Abdoul Karim Yoda         Silver   Normal   \n",
       "4      16502         Ronan         Connor Ronan  Bronze - Rare   Normal   \n",
       "\n",
       "      origin  overall                     club            league  \\\n",
       "0  Transfers       68            UD Las Palmas  LaLiga Santander   \n",
       "1        NaN       73  Suwon Samsung Bluewings  K LEAGUE Classic   \n",
       "2        NaN       60            SV Sandhausen      Bundesliga 2   \n",
       "3  Transfers       69                  CF Reus  LaLiga 1 I 2 I 3   \n",
       "4  Transfers       64               Portsmouth    EFL League One   \n",
       "\n",
       "           nationality     ...        cam    cf    rf    lf    rw    lw    st  \\\n",
       "0               France     ...       65.0  67.0  67.0  67.0  68.0  68.0  66.0   \n",
       "1       Korea Republic     ...       48.0  46.0  46.0  46.0  46.0  46.0  46.0   \n",
       "2              Germany     ...       49.0  49.0  49.0  49.0  51.0  51.0  49.0   \n",
       "3               France     ...       66.0  67.0  67.0  67.0  69.0  69.0  65.0   \n",
       "4  Republic of Ireland     ...       63.0  61.0  61.0  61.0  63.0  63.0  56.0   \n",
       "\n",
       "   price_ps4                                             traits  specialties  \n",
       "0     1000.0  Tries To Beat Defensive Line, Selfish, Dribble...    Speedster  \n",
       "1      450.0                                         Leadership          NaN  \n",
       "2      200.0                                                NaN          NaN  \n",
       "3      350.0                          Flair, Technical Dribbler          NaN  \n",
       "4      200.0                                                NaN          NaN  \n",
       "\n",
       "[5 rows x 82 columns]"
      ]
     },
     "execution_count": 36,
     "metadata": {},
     "output_type": "execute_result"
    }
   ],
   "source": [
    "import pandas as pd\n",
    "data_train = pd.read_csv('./data/train_with_targets.csv')\n",
    "data_train.head()"
   ]
  },
  {
   "cell_type": "code",
   "execution_count": 37,
   "metadata": {},
   "outputs": [
    {
     "name": "stderr",
     "output_type": "stream",
     "text": [
      "/Users/aleksandrkagan/anaconda3/lib/python3.6/site-packages/pandas/core/generic.py:3660: SettingWithCopyWarning: \n",
      "A value is trying to be set on a copy of a slice from a DataFrame\n",
      "\n",
      "See the caveats in the documentation: http://pandas.pydata.org/pandas-docs/stable/indexing.html#indexing-view-versus-copy\n",
      "  self._update_inplace(new_data)\n"
     ]
    },
    {
     "data": {
      "text/html": [
       "<div>\n",
       "<style>\n",
       "    .dataframe thead tr:only-child th {\n",
       "        text-align: right;\n",
       "    }\n",
       "\n",
       "    .dataframe thead th {\n",
       "        text-align: left;\n",
       "    }\n",
       "\n",
       "    .dataframe tbody tr th {\n",
       "        vertical-align: top;\n",
       "    }\n",
       "</style>\n",
       "<table border=\"1\" class=\"dataframe\">\n",
       "  <thead>\n",
       "    <tr style=\"text-align: right;\">\n",
       "      <th></th>\n",
       "      <th>player_ID</th>\n",
       "      <th>overall</th>\n",
       "      <th>age</th>\n",
       "      <th>height</th>\n",
       "      <th>weight</th>\n",
       "      <th>intl_rep</th>\n",
       "      <th>pace</th>\n",
       "      <th>pace_acceleration</th>\n",
       "      <th>pace_sprint_speed</th>\n",
       "      <th>dribbling</th>\n",
       "      <th>...</th>\n",
       "      <th>rm</th>\n",
       "      <th>lm</th>\n",
       "      <th>cam</th>\n",
       "      <th>cf</th>\n",
       "      <th>rf</th>\n",
       "      <th>lf</th>\n",
       "      <th>rw</th>\n",
       "      <th>lw</th>\n",
       "      <th>st</th>\n",
       "      <th>price_ps4</th>\n",
       "    </tr>\n",
       "  </thead>\n",
       "  <tbody>\n",
       "    <tr>\n",
       "      <th>0</th>\n",
       "      <td>20920</td>\n",
       "      <td>68</td>\n",
       "      <td>24</td>\n",
       "      <td>183</td>\n",
       "      <td>79</td>\n",
       "      <td>1</td>\n",
       "      <td>91.0</td>\n",
       "      <td>90.0</td>\n",
       "      <td>91.0</td>\n",
       "      <td>69.0</td>\n",
       "      <td>...</td>\n",
       "      <td>67.0</td>\n",
       "      <td>67.0</td>\n",
       "      <td>65.0</td>\n",
       "      <td>67.0</td>\n",
       "      <td>67.0</td>\n",
       "      <td>67.0</td>\n",
       "      <td>68.0</td>\n",
       "      <td>68.0</td>\n",
       "      <td>66.0</td>\n",
       "      <td>1000.0</td>\n",
       "    </tr>\n",
       "    <tr>\n",
       "      <th>1</th>\n",
       "      <td>2996</td>\n",
       "      <td>73</td>\n",
       "      <td>26</td>\n",
       "      <td>183</td>\n",
       "      <td>75</td>\n",
       "      <td>1</td>\n",
       "      <td>72.0</td>\n",
       "      <td>69.0</td>\n",
       "      <td>74.0</td>\n",
       "      <td>49.0</td>\n",
       "      <td>...</td>\n",
       "      <td>48.0</td>\n",
       "      <td>48.0</td>\n",
       "      <td>48.0</td>\n",
       "      <td>46.0</td>\n",
       "      <td>46.0</td>\n",
       "      <td>46.0</td>\n",
       "      <td>46.0</td>\n",
       "      <td>46.0</td>\n",
       "      <td>46.0</td>\n",
       "      <td>450.0</td>\n",
       "    </tr>\n",
       "    <tr>\n",
       "      <th>2</th>\n",
       "      <td>12998</td>\n",
       "      <td>60</td>\n",
       "      <td>22</td>\n",
       "      <td>178</td>\n",
       "      <td>69</td>\n",
       "      <td>1</td>\n",
       "      <td>76.0</td>\n",
       "      <td>75.0</td>\n",
       "      <td>76.0</td>\n",
       "      <td>55.0</td>\n",
       "      <td>...</td>\n",
       "      <td>52.0</td>\n",
       "      <td>52.0</td>\n",
       "      <td>49.0</td>\n",
       "      <td>49.0</td>\n",
       "      <td>49.0</td>\n",
       "      <td>49.0</td>\n",
       "      <td>51.0</td>\n",
       "      <td>51.0</td>\n",
       "      <td>49.0</td>\n",
       "      <td>200.0</td>\n",
       "    </tr>\n",
       "    <tr>\n",
       "      <th>3</th>\n",
       "      <td>16112</td>\n",
       "      <td>69</td>\n",
       "      <td>29</td>\n",
       "      <td>182</td>\n",
       "      <td>73</td>\n",
       "      <td>1</td>\n",
       "      <td>84.0</td>\n",
       "      <td>79.0</td>\n",
       "      <td>88.0</td>\n",
       "      <td>73.0</td>\n",
       "      <td>...</td>\n",
       "      <td>68.0</td>\n",
       "      <td>68.0</td>\n",
       "      <td>66.0</td>\n",
       "      <td>67.0</td>\n",
       "      <td>67.0</td>\n",
       "      <td>67.0</td>\n",
       "      <td>69.0</td>\n",
       "      <td>69.0</td>\n",
       "      <td>65.0</td>\n",
       "      <td>350.0</td>\n",
       "    </tr>\n",
       "    <tr>\n",
       "      <th>4</th>\n",
       "      <td>16502</td>\n",
       "      <td>64</td>\n",
       "      <td>20</td>\n",
       "      <td>170</td>\n",
       "      <td>63</td>\n",
       "      <td>1</td>\n",
       "      <td>81.0</td>\n",
       "      <td>80.0</td>\n",
       "      <td>82.0</td>\n",
       "      <td>68.0</td>\n",
       "      <td>...</td>\n",
       "      <td>63.0</td>\n",
       "      <td>63.0</td>\n",
       "      <td>63.0</td>\n",
       "      <td>61.0</td>\n",
       "      <td>61.0</td>\n",
       "      <td>61.0</td>\n",
       "      <td>63.0</td>\n",
       "      <td>63.0</td>\n",
       "      <td>56.0</td>\n",
       "      <td>200.0</td>\n",
       "    </tr>\n",
       "  </tbody>\n",
       "</table>\n",
       "<p>5 rows × 66 columns</p>\n",
       "</div>"
      ],
      "text/plain": [
       "   player_ID  overall  age  height  weight  intl_rep  pace  pace_acceleration  \\\n",
       "0      20920       68   24     183      79         1  91.0               90.0   \n",
       "1       2996       73   26     183      75         1  72.0               69.0   \n",
       "2      12998       60   22     178      69         1  76.0               75.0   \n",
       "3      16112       69   29     182      73         1  84.0               79.0   \n",
       "4      16502       64   20     170      63         1  81.0               80.0   \n",
       "\n",
       "   pace_sprint_speed  dribbling    ...        rm    lm   cam    cf    rf  \\\n",
       "0               91.0       69.0    ...      67.0  67.0  65.0  67.0  67.0   \n",
       "1               74.0       49.0    ...      48.0  48.0  48.0  46.0  46.0   \n",
       "2               76.0       55.0    ...      52.0  52.0  49.0  49.0  49.0   \n",
       "3               88.0       73.0    ...      68.0  68.0  66.0  67.0  67.0   \n",
       "4               82.0       68.0    ...      63.0  63.0  63.0  61.0  61.0   \n",
       "\n",
       "     lf    rw    lw    st  price_ps4  \n",
       "0  67.0  68.0  68.0  66.0     1000.0  \n",
       "1  46.0  46.0  46.0  46.0      450.0  \n",
       "2  49.0  51.0  51.0  49.0      200.0  \n",
       "3  67.0  69.0  69.0  65.0      350.0  \n",
       "4  61.0  63.0  63.0  56.0      200.0  \n",
       "\n",
       "[5 rows x 66 columns]"
      ]
     },
     "execution_count": 37,
     "metadata": {},
     "output_type": "execute_result"
    }
   ],
   "source": [
    "data_train_num = data_train.select_dtypes(include=['int', 'float'])\n",
    "data_train_num.fillna(data_train_num.mean(), inplace=True)\n",
    "data_train_num.head()"
   ]
  },
  {
   "cell_type": "code",
   "execution_count": 38,
   "metadata": {},
   "outputs": [
    {
     "name": "stdout",
     "output_type": "stream",
     "text": [
      "(18629, 64) (18629,)\n",
      "(14903, 64) (14903,)\n",
      "(3726, 64) (3726,)\n"
     ]
    }
   ],
   "source": [
    "from sklearn.model_selection import train_test_split as tts\n",
    "\n",
    "X = data_train_num.drop(labels=['price_ps4'], axis=1).values[:, 1:]\n",
    "y = data_train_num['price_ps4'].values\n",
    "print(X.shape, y.shape)\n",
    "\n",
    "X_train, X_val, y_train, y_val = tts(X, y, test_size=0.2, random_state=179)\n",
    "print(X_train.shape, y_train.shape)\n",
    "print(X_val.shape, y_val.shape)"
   ]
  },
  {
   "cell_type": "code",
   "execution_count": 39,
   "metadata": {},
   "outputs": [
    {
     "name": "stderr",
     "output_type": "stream",
     "text": [
      "[Parallel(n_jobs=-1)]: Done  42 tasks      | elapsed:    3.0s\n",
      "[Parallel(n_jobs=-1)]: Done 100 out of 100 | elapsed:    8.0s finished\n"
     ]
    },
    {
     "data": {
      "text/plain": [
       "RandomForestRegressor(bootstrap=True, criterion='mse', max_depth=10,\n",
       "           max_features='auto', max_leaf_nodes=None,\n",
       "           min_impurity_decrease=0.0, min_impurity_split=None,\n",
       "           min_samples_leaf=1, min_samples_split=2,\n",
       "           min_weight_fraction_leaf=0.0, n_estimators=100, n_jobs=-1,\n",
       "           oob_score=False, random_state=2, verbose=1, warm_start=False)"
      ]
     },
     "execution_count": 39,
     "metadata": {},
     "output_type": "execute_result"
    }
   ],
   "source": [
    "from sklearn.ensemble import RandomForestRegressor\n",
    "rf_regressor = RandomForestRegressor(n_estimators=100, max_depth=10, verbose=1, n_jobs=-1, random_state=2)\n",
    "rf_regressor.fit(X_train, y_train)"
   ]
  },
  {
   "cell_type": "code",
   "execution_count": 40,
   "metadata": {},
   "outputs": [
    {
     "name": "stderr",
     "output_type": "stream",
     "text": [
      "[Parallel(n_jobs=4)]: Done  42 tasks      | elapsed:    0.0s\n",
      "[Parallel(n_jobs=4)]: Done 100 out of 100 | elapsed:    0.0s finished\n",
      "[Parallel(n_jobs=4)]: Done  42 tasks      | elapsed:    0.0s\n",
      "[Parallel(n_jobs=4)]: Done 100 out of 100 | elapsed:    0.0s finished\n"
     ]
    },
    {
     "name": "stdout",
     "output_type": "stream",
     "text": [
      "train MSE: 442677211.07112485\n",
      "val MSE: 1075785619.1330426\n"
     ]
    }
   ],
   "source": [
    "rf_regressor_pred = rf_regressor.predict(X_train)\n",
    "print('train MSE:', mean_squared_error(rf_regressor_pred, y_train))\n",
    "rf_regressor_pred = rf_regressor.predict(X_val)\n",
    "print('val MSE:', mean_squared_error(rf_regressor_pred, y_val))"
   ]
  },
  {
   "cell_type": "markdown",
   "metadata": {},
   "source": [
    "#### XGBOOST library"
   ]
  },
  {
   "cell_type": "code",
   "execution_count": 41,
   "metadata": {
    "collapsed": true
   },
   "outputs": [],
   "source": [
    "from xgboost import XGBRegressor"
   ]
  },
  {
   "cell_type": "code",
   "execution_count": 42,
   "metadata": {},
   "outputs": [
    {
     "data": {
      "text/plain": [
       "XGBRegressor(base_score=0.5, booster='gbtree', colsample_bylevel=1,\n",
       "       colsample_bytree=1, gamma=0, learning_rate=0.1, max_delta_step=0,\n",
       "       max_depth=3, min_child_weight=1, missing=None, n_estimators=400,\n",
       "       n_jobs=1, nthread=None, objective='reg:linear', random_state=0,\n",
       "       reg_alpha=0, reg_lambda=1, scale_pos_weight=1, seed=None,\n",
       "       silent=True, subsample=1)"
      ]
     },
     "execution_count": 42,
     "metadata": {},
     "output_type": "execute_result"
    }
   ],
   "source": [
    "xgb_regressor = XGBRegressor(n_estimators=400, max_depth = 3)\n",
    "xgb_regressor.fit(X_train, y_train)"
   ]
  },
  {
   "cell_type": "code",
   "execution_count": 43,
   "metadata": {},
   "outputs": [
    {
     "name": "stdout",
     "output_type": "stream",
     "text": [
      "train MSE: 56354668.77023895\n",
      "val MSE: 678222891.6151305\n"
     ]
    }
   ],
   "source": [
    "xgb_regressor_pred = xgb_regressor.predict(X_train)\n",
    "print('train MSE:', mean_squared_error(xgb_regressor_pred, y_train))\n",
    "xgb_regressor_pred = xgb_regressor.predict(X_val)\n",
    "print('val MSE:', mean_squared_error(xgb_regressor_pred, y_val))"
   ]
  },
  {
   "cell_type": "code",
   "execution_count": 44,
   "metadata": {},
   "outputs": [
    {
     "name": "stdout",
     "output_type": "stream",
     "text": [
      "0.6304442814189122\n"
     ]
    }
   ],
   "source": [
    "print(mean_squared_error(xgb_regressor_pred, y_val) / mean_squared_error(rf_regressor_pred, y_val))"
   ]
  },
  {
   "cell_type": "markdown",
   "metadata": {},
   "source": [
    "### MyBoost"
   ]
  },
  {
   "cell_type": "code",
   "execution_count": 45,
   "metadata": {
    "collapsed": true
   },
   "outputs": [],
   "source": [
    "boost = MyBoost(loss = MSELoss(), n_estimators = 400, learning_rate = 0.08, max_depth = 2, patience = 10)"
   ]
  },
  {
   "cell_type": "code",
   "execution_count": 46,
   "metadata": {},
   "outputs": [
    {
     "name": "stdout",
     "output_type": "stream",
     "text": [
      "Iter # 10: Loss value: 2508348317.8777065 R2-score: 0.5673170673252816\n",
      "Loss on evalset: 123677861812.57959 R2-score on evalset: -17.49341184983749\n",
      "Iter # 20: Loss value: 1423724409.4447322 R2-score: 0.7544115988961457\n",
      "Loss on evalset: 297451465559.1633 R2-score on evalset: -43.47758375916432\n",
      "Iter # 30: Loss value: 978210069.0421102 R2-score: 0.8312615523017984\n",
      "Loss on evalset: 445730459224.3233 R2-score on evalset: -65.64957524042656\n",
      "Iter # 40: Loss value: 767666736.8330663 R2-score: 0.8675796767767894\n",
      "Loss on evalset: 556881374666.6681 R2-score on evalset: -82.26984686087812\n",
      "Iter # 50: Loss value: 639204828.725987 R2-score: 0.8897389896364125\n",
      "Loss on evalset: 623038274047.124 R2-score on evalset: -92.1622137648683\n",
      "Iter # 60: Loss value: 540815617.3587542 R2-score: 0.9067108480559586\n",
      "Loss on evalset: 674196662927.7417 R2-score on evalset: -99.81187022947557\n",
      "Iter # 70: Loss value: 480987437.491092 R2-score: 0.9170310384925217\n",
      "Loss on evalset: 702446629948.6797 R2-score on evalset: -104.0360560878488\n",
      "Iter # 80: Loss value: 434542592.4256358 R2-score: 0.9250426418361704\n",
      "Loss on evalset: 711936121694.0701 R2-score on evalset: -105.45500913669012\n",
      "Iter # 90: Loss value: 401406751.4372078 R2-score: 0.9307584799250553\n",
      "Loss on evalset: 722241323274.8914 R2-score on evalset: -106.99593436159842\n",
      "Iter # 100: Loss value: 376587475.17973727 R2-score: 0.9350397343112216\n",
      "Loss on evalset: 733567531215.386 R2-score on evalset: -108.68952952140057\n",
      "Iter # 110: Loss value: 351548710.202608 R2-score: 0.9393588498756913\n",
      "Loss on evalset: 738408352057.1226 R2-score on evalset: -109.41337202809895\n",
      "Iter # 120: Loss value: 337271492.3414861 R2-score: 0.9418216292475023\n",
      "Loss on evalset: 743522392766.1244 R2-score on evalset: -110.17806879486325\n",
      "Iter # 130: Loss value: 323901681.5500789 R2-score: 0.9441278834871156\n",
      "Loss on evalset: 747564361023.1694 R2-score on evalset: -110.78245977127567\n",
      "Iter # 140: Loss value: 304980559.16393685 R2-score: 0.947391723148132\n",
      "Loss on evalset: 754683936341.9778 R2-score on evalset: -111.84704187705452\n",
      "Iter # 150: Loss value: 296080599.0738728 R2-score: 0.948926940886837\n",
      "Loss on evalset: 759365946083.0979 R2-score on evalset: -112.54713753814138\n",
      "Iter # 160: Loss value: 279016003.5186426 R2-score: 0.9518705349631145\n",
      "Loss on evalset: 757501753863.8989 R2-score on evalset: -112.2683869681392\n",
      "Iter # 170: Loss value: 266052901.46828356 R2-score: 0.9541066331045626\n",
      "Loss on evalset: 756720241576.6923 R2-score on evalset: -112.1515283130718\n",
      "Iter # 180: Loss value: 255270246.8361037 R2-score: 0.9559666102835764\n",
      "Loss on evalset: 755814248975.0767 R2-score on evalset: -112.01605625631875\n",
      "Iter # 190: Loss value: 244432732.65681696 R2-score: 0.9578360505780428\n",
      "Loss on evalset: 756093080904.3435 R2-score on evalset: -112.05774968171629\n",
      "Iter # 200: Loss value: 235178177.84411287 R2-score: 0.9594324348953325\n",
      "Loss on evalset: 753331418166.6099 R2-score on evalset: -111.64480135247808\n",
      "Iter # 210: Loss value: 226706299.91916433 R2-score: 0.9608938096811638\n",
      "Loss on evalset: 762037602354.9816 R2-score on evalset: -112.94662730157224\n",
      "Iter # 220: Loss value: 219076759.22183385 R2-score: 0.9622098836970226\n",
      "Loss on evalset: 763479559809.3025 R2-score on evalset: -113.16224158113597\n"
     ]
    }
   ],
   "source": [
    "boost.fit(X_train, y_train, X_evalset = X_val, y_evalset = y_val, verbose=True)"
   ]
  },
  {
   "cell_type": "code",
   "execution_count": 47,
   "metadata": {},
   "outputs": [
    {
     "name": "stdout",
     "output_type": "stream",
     "text": [
      "train MSE: 592367214.2146995\n",
      "val MSE: 1154662873.4741354\n"
     ]
    }
   ],
   "source": [
    "myboost_pred = boost.predict(X_train)\n",
    "print('train MSE:', mean_squared_error(myboost_pred, y_train))\n",
    "myboost_pred = boost.predict(X_val)\n",
    "print('val MSE:', mean_squared_error(myboost_pred, y_val))"
   ]
  },
  {
   "cell_type": "code",
   "execution_count": 48,
   "metadata": {},
   "outputs": [
    {
     "name": "stdout",
     "output_type": "stream",
     "text": [
      "1.0733206067623944\n"
     ]
    }
   ],
   "source": [
    "print(mean_squared_error(myboost_pred, y_val) / mean_squared_error(rf_regressor_pred, y_val))"
   ]
  },
  {
   "cell_type": "markdown",
   "metadata": {},
   "source": [
    "### Catboost"
   ]
  },
  {
   "cell_type": "code",
   "execution_count": 49,
   "metadata": {
    "collapsed": true
   },
   "outputs": [],
   "source": [
    "from catboost import CatBoostRegressor"
   ]
  },
  {
   "cell_type": "code",
   "execution_count": 50,
   "metadata": {
    "collapsed": true
   },
   "outputs": [],
   "source": [
    "catboost = CatBoostRegressor(iterations = 400, depth=3)"
   ]
  },
  {
   "cell_type": "code",
   "execution_count": 51,
   "metadata": {},
   "outputs": [
    {
     "name": "stdout",
     "output_type": "stream",
     "text": [
      "0:\tlearn: 106861.8391752\ttotal: 74.9ms\tremaining: 29.9s\n",
      "1:\tlearn: 105798.3704074\ttotal: 94.1ms\tremaining: 18.7s\n",
      "2:\tlearn: 104335.5514595\ttotal: 104ms\tremaining: 13.8s\n",
      "3:\tlearn: 103000.3428721\ttotal: 113ms\tremaining: 11.2s\n",
      "4:\tlearn: 101506.0822534\ttotal: 124ms\tremaining: 9.8s\n",
      "5:\tlearn: 100020.3043489\ttotal: 136ms\tremaining: 8.94s\n",
      "6:\tlearn: 98661.9438273\ttotal: 145ms\tremaining: 8.13s\n",
      "7:\tlearn: 97272.4114258\ttotal: 153ms\tremaining: 7.5s\n",
      "8:\tlearn: 95967.3003799\ttotal: 162ms\tremaining: 7.02s\n",
      "9:\tlearn: 94736.1434176\ttotal: 171ms\tremaining: 6.69s\n",
      "10:\tlearn: 93540.2945732\ttotal: 184ms\tremaining: 6.5s\n",
      "11:\tlearn: 92331.5302411\ttotal: 191ms\tremaining: 6.17s\n",
      "12:\tlearn: 91232.2767075\ttotal: 202ms\tremaining: 6.01s\n",
      "13:\tlearn: 90057.7880362\ttotal: 212ms\tremaining: 5.83s\n",
      "14:\tlearn: 89068.3553024\ttotal: 220ms\tremaining: 5.63s\n",
      "15:\tlearn: 87976.3631326\ttotal: 230ms\tremaining: 5.53s\n",
      "16:\tlearn: 87024.2613631\ttotal: 238ms\tremaining: 5.36s\n",
      "17:\tlearn: 85993.8532618\ttotal: 250ms\tremaining: 5.29s\n",
      "18:\tlearn: 84847.7678148\ttotal: 257ms\tremaining: 5.15s\n",
      "19:\tlearn: 83893.1403057\ttotal: 267ms\tremaining: 5.08s\n",
      "20:\tlearn: 82865.8045545\ttotal: 278ms\tremaining: 5.01s\n",
      "21:\tlearn: 82043.8331032\ttotal: 286ms\tremaining: 4.92s\n",
      "22:\tlearn: 81405.6844826\ttotal: 300ms\tremaining: 4.92s\n",
      "23:\tlearn: 80684.6508770\ttotal: 311ms\tremaining: 4.86s\n",
      "24:\tlearn: 79809.1996782\ttotal: 319ms\tremaining: 4.79s\n",
      "25:\tlearn: 78868.3935180\ttotal: 331ms\tremaining: 4.77s\n",
      "26:\tlearn: 78009.2476925\ttotal: 340ms\tremaining: 4.69s\n",
      "27:\tlearn: 77063.2197028\ttotal: 349ms\tremaining: 4.64s\n",
      "28:\tlearn: 76031.5790260\ttotal: 359ms\tremaining: 4.59s\n",
      "29:\tlearn: 75181.6217354\ttotal: 367ms\tremaining: 4.53s\n",
      "30:\tlearn: 74449.8568405\ttotal: 379ms\tremaining: 4.51s\n",
      "31:\tlearn: 73688.2405539\ttotal: 386ms\tremaining: 4.43s\n",
      "32:\tlearn: 72966.0908978\ttotal: 393ms\tremaining: 4.37s\n",
      "33:\tlearn: 72245.3829709\ttotal: 400ms\tremaining: 4.3s\n",
      "34:\tlearn: 71512.6717651\ttotal: 407ms\tremaining: 4.25s\n",
      "35:\tlearn: 70870.7368116\ttotal: 414ms\tremaining: 4.18s\n",
      "36:\tlearn: 70718.3975665\ttotal: 421ms\tremaining: 4.13s\n",
      "37:\tlearn: 69995.4692675\ttotal: 428ms\tremaining: 4.08s\n",
      "38:\tlearn: 69384.7536891\ttotal: 436ms\tremaining: 4.04s\n",
      "39:\tlearn: 68577.5655209\ttotal: 443ms\tremaining: 3.98s\n",
      "40:\tlearn: 67902.1987461\ttotal: 449ms\tremaining: 3.93s\n",
      "41:\tlearn: 67327.8744100\ttotal: 456ms\tremaining: 3.89s\n",
      "42:\tlearn: 66662.1551540\ttotal: 463ms\tremaining: 3.84s\n",
      "43:\tlearn: 66044.0143414\ttotal: 470ms\tremaining: 3.8s\n",
      "44:\tlearn: 65517.2097332\ttotal: 479ms\tremaining: 3.78s\n",
      "45:\tlearn: 65068.0425176\ttotal: 485ms\tremaining: 3.73s\n",
      "46:\tlearn: 64909.2070156\ttotal: 492ms\tremaining: 3.69s\n",
      "47:\tlearn: 64351.4278723\ttotal: 499ms\tremaining: 3.65s\n",
      "48:\tlearn: 63840.3936388\ttotal: 505ms\tremaining: 3.62s\n",
      "49:\tlearn: 63421.6667940\ttotal: 511ms\tremaining: 3.58s\n",
      "50:\tlearn: 62667.1062968\ttotal: 518ms\tremaining: 3.54s\n",
      "51:\tlearn: 62147.7393081\ttotal: 524ms\tremaining: 3.51s\n",
      "52:\tlearn: 61711.5668195\ttotal: 535ms\tremaining: 3.5s\n",
      "53:\tlearn: 61184.1561327\ttotal: 547ms\tremaining: 3.5s\n",
      "54:\tlearn: 60740.1254633\ttotal: 559ms\tremaining: 3.51s\n",
      "55:\tlearn: 60249.8322603\ttotal: 572ms\tremaining: 3.52s\n",
      "56:\tlearn: 60128.7271947\ttotal: 584ms\tremaining: 3.52s\n",
      "57:\tlearn: 59748.2089088\ttotal: 597ms\tremaining: 3.52s\n",
      "58:\tlearn: 59116.5612150\ttotal: 611ms\tremaining: 3.53s\n",
      "59:\tlearn: 58741.1510778\ttotal: 619ms\tremaining: 3.51s\n",
      "60:\tlearn: 58270.7954830\ttotal: 626ms\tremaining: 3.48s\n",
      "61:\tlearn: 58156.2070926\ttotal: 632ms\tremaining: 3.45s\n",
      "62:\tlearn: 57682.3451156\ttotal: 639ms\tremaining: 3.42s\n",
      "63:\tlearn: 57361.5571077\ttotal: 646ms\tremaining: 3.39s\n",
      "64:\tlearn: 56952.1742835\ttotal: 652ms\tremaining: 3.36s\n",
      "65:\tlearn: 56502.0243615\ttotal: 658ms\tremaining: 3.33s\n",
      "66:\tlearn: 56078.8907678\ttotal: 665ms\tremaining: 3.3s\n",
      "67:\tlearn: 55678.5829362\ttotal: 672ms\tremaining: 3.28s\n",
      "68:\tlearn: 55448.6170873\ttotal: 680ms\tremaining: 3.26s\n",
      "69:\tlearn: 54975.8574551\ttotal: 687ms\tremaining: 3.24s\n",
      "70:\tlearn: 54653.8588843\ttotal: 694ms\tremaining: 3.21s\n",
      "71:\tlearn: 54302.2156304\ttotal: 700ms\tremaining: 3.19s\n",
      "72:\tlearn: 53953.3080855\ttotal: 707ms\tremaining: 3.17s\n",
      "73:\tlearn: 53417.7372834\ttotal: 715ms\tremaining: 3.15s\n",
      "74:\tlearn: 52928.0875877\ttotal: 726ms\tremaining: 3.15s\n",
      "75:\tlearn: 52519.9705208\ttotal: 734ms\tremaining: 3.13s\n",
      "76:\tlearn: 52288.4013997\ttotal: 741ms\tremaining: 3.11s\n",
      "77:\tlearn: 52218.3277310\ttotal: 749ms\tremaining: 3.09s\n",
      "78:\tlearn: 51783.1112917\ttotal: 755ms\tremaining: 3.07s\n",
      "79:\tlearn: 51589.7079680\ttotal: 762ms\tremaining: 3.05s\n",
      "80:\tlearn: 51344.8640450\ttotal: 769ms\tremaining: 3.03s\n",
      "81:\tlearn: 51155.3251795\ttotal: 775ms\tremaining: 3s\n",
      "82:\tlearn: 50817.3365437\ttotal: 781ms\tremaining: 2.98s\n",
      "83:\tlearn: 50392.6116702\ttotal: 788ms\tremaining: 2.96s\n",
      "84:\tlearn: 50299.2297814\ttotal: 794ms\tremaining: 2.94s\n",
      "85:\tlearn: 50143.6484344\ttotal: 801ms\tremaining: 2.92s\n",
      "86:\tlearn: 50006.1541918\ttotal: 807ms\tremaining: 2.9s\n",
      "87:\tlearn: 49911.5588584\ttotal: 813ms\tremaining: 2.88s\n",
      "88:\tlearn: 49645.8305566\ttotal: 820ms\tremaining: 2.87s\n",
      "89:\tlearn: 49435.8384143\ttotal: 826ms\tremaining: 2.85s\n",
      "90:\tlearn: 49150.2122060\ttotal: 834ms\tremaining: 2.83s\n",
      "91:\tlearn: 48921.0583267\ttotal: 840ms\tremaining: 2.81s\n",
      "92:\tlearn: 48556.7819678\ttotal: 847ms\tremaining: 2.79s\n",
      "93:\tlearn: 48341.9945153\ttotal: 854ms\tremaining: 2.78s\n",
      "94:\tlearn: 48103.7807862\ttotal: 860ms\tremaining: 2.76s\n",
      "95:\tlearn: 47844.0922934\ttotal: 867ms\tremaining: 2.75s\n",
      "96:\tlearn: 47543.6789793\ttotal: 873ms\tremaining: 2.73s\n",
      "97:\tlearn: 47461.1807281\ttotal: 882ms\tremaining: 2.72s\n",
      "98:\tlearn: 47380.5331454\ttotal: 888ms\tremaining: 2.7s\n",
      "99:\tlearn: 47263.2319228\ttotal: 895ms\tremaining: 2.68s\n",
      "100:\tlearn: 46916.0702204\ttotal: 902ms\tremaining: 2.67s\n",
      "101:\tlearn: 46793.3174522\ttotal: 910ms\tremaining: 2.66s\n",
      "102:\tlearn: 46588.3249118\ttotal: 917ms\tremaining: 2.65s\n",
      "103:\tlearn: 46401.5451017\ttotal: 924ms\tremaining: 2.63s\n",
      "104:\tlearn: 46194.0370465\ttotal: 931ms\tremaining: 2.61s\n",
      "105:\tlearn: 46049.8055717\ttotal: 938ms\tremaining: 2.6s\n",
      "106:\tlearn: 45794.6764936\ttotal: 945ms\tremaining: 2.59s\n",
      "107:\tlearn: 45632.9882240\ttotal: 952ms\tremaining: 2.57s\n",
      "108:\tlearn: 45386.5588834\ttotal: 959ms\tremaining: 2.56s\n",
      "109:\tlearn: 45208.2879147\ttotal: 966ms\tremaining: 2.55s\n",
      "110:\tlearn: 44973.6561066\ttotal: 973ms\tremaining: 2.53s\n",
      "111:\tlearn: 44900.1022699\ttotal: 980ms\tremaining: 2.52s\n",
      "112:\tlearn: 44708.4967368\ttotal: 987ms\tremaining: 2.5s\n",
      "113:\tlearn: 44573.6789627\ttotal: 1000ms\tremaining: 2.51s\n",
      "114:\tlearn: 44493.3265779\ttotal: 1.01s\tremaining: 2.51s\n",
      "115:\tlearn: 44359.3503456\ttotal: 1.03s\tremaining: 2.52s\n",
      "116:\tlearn: 44190.2928508\ttotal: 1.05s\tremaining: 2.55s\n",
      "117:\tlearn: 43983.3013433\ttotal: 1.07s\tremaining: 2.55s\n",
      "118:\tlearn: 43894.7790432\ttotal: 1.08s\tremaining: 2.55s\n",
      "119:\tlearn: 43833.7229977\ttotal: 1.09s\tremaining: 2.56s\n",
      "120:\tlearn: 43638.9212840\ttotal: 1.11s\tremaining: 2.57s\n",
      "121:\tlearn: 43394.2215008\ttotal: 1.13s\tremaining: 2.58s\n",
      "122:\tlearn: 43327.2169151\ttotal: 1.16s\tremaining: 2.6s\n",
      "123:\tlearn: 43094.9493191\ttotal: 1.17s\tremaining: 2.6s\n",
      "124:\tlearn: 42964.3166831\ttotal: 1.18s\tremaining: 2.6s\n",
      "125:\tlearn: 42863.1669558\ttotal: 1.2s\tremaining: 2.61s\n",
      "126:\tlearn: 42677.5633527\ttotal: 1.21s\tremaining: 2.61s\n",
      "127:\tlearn: 42557.6823383\ttotal: 1.23s\tremaining: 2.61s\n",
      "128:\tlearn: 42375.8837044\ttotal: 1.25s\tremaining: 2.62s\n",
      "129:\tlearn: 42191.9658120\ttotal: 1.26s\tremaining: 2.62s\n",
      "130:\tlearn: 42015.5527796\ttotal: 1.27s\tremaining: 2.62s\n",
      "131:\tlearn: 41853.4483648\ttotal: 1.29s\tremaining: 2.62s\n",
      "132:\tlearn: 41774.5429221\ttotal: 1.31s\tremaining: 2.63s\n",
      "133:\tlearn: 41694.2526430\ttotal: 1.33s\tremaining: 2.63s\n",
      "134:\tlearn: 41633.6022874\ttotal: 1.34s\tremaining: 2.64s\n",
      "135:\tlearn: 41467.5810595\ttotal: 1.36s\tremaining: 2.63s\n",
      "136:\tlearn: 41264.5203374\ttotal: 1.37s\tremaining: 2.63s\n",
      "137:\tlearn: 41151.3774020\ttotal: 1.39s\tremaining: 2.63s\n",
      "138:\tlearn: 41030.6928906\ttotal: 1.4s\tremaining: 2.63s\n",
      "139:\tlearn: 40929.5914193\ttotal: 1.41s\tremaining: 2.62s\n",
      "140:\tlearn: 40800.4169524\ttotal: 1.43s\tremaining: 2.62s\n",
      "141:\tlearn: 40735.6247826\ttotal: 1.45s\tremaining: 2.63s\n",
      "142:\tlearn: 40649.1563252\ttotal: 1.46s\tremaining: 2.62s\n",
      "143:\tlearn: 40543.9999865\ttotal: 1.48s\tremaining: 2.62s\n",
      "144:\tlearn: 40454.1618182\ttotal: 1.49s\tremaining: 2.63s\n",
      "145:\tlearn: 40422.1933357\ttotal: 1.51s\tremaining: 2.63s\n",
      "146:\tlearn: 40361.3125934\ttotal: 1.52s\tremaining: 2.63s\n",
      "147:\tlearn: 40299.9656540\ttotal: 1.54s\tremaining: 2.62s\n",
      "148:\tlearn: 40235.1737615\ttotal: 1.55s\tremaining: 2.62s\n",
      "149:\tlearn: 40187.2297547\ttotal: 1.57s\tremaining: 2.61s\n",
      "150:\tlearn: 40158.4605315\ttotal: 1.58s\tremaining: 2.62s\n",
      "151:\tlearn: 40032.6665230\ttotal: 1.6s\tremaining: 2.62s\n",
      "152:\tlearn: 39976.7552696\ttotal: 1.62s\tremaining: 2.62s\n",
      "153:\tlearn: 39859.8974507\ttotal: 1.64s\tremaining: 2.62s\n",
      "154:\tlearn: 39725.2128801\ttotal: 1.65s\tremaining: 2.61s\n",
      "155:\tlearn: 39627.4411189\ttotal: 1.68s\tremaining: 2.62s\n",
      "156:\tlearn: 39601.6498994\ttotal: 1.7s\tremaining: 2.64s\n"
     ]
    },
    {
     "name": "stdout",
     "output_type": "stream",
     "text": [
      "157:\tlearn: 39552.8830277\ttotal: 1.72s\tremaining: 2.64s\n",
      "158:\tlearn: 39536.6158411\ttotal: 1.74s\tremaining: 2.64s\n",
      "159:\tlearn: 39485.6076751\ttotal: 1.76s\tremaining: 2.64s\n",
      "160:\tlearn: 39381.9289198\ttotal: 1.78s\tremaining: 2.64s\n",
      "161:\tlearn: 39345.8457868\ttotal: 1.79s\tremaining: 2.63s\n",
      "162:\tlearn: 39193.4427615\ttotal: 1.81s\tremaining: 2.63s\n",
      "163:\tlearn: 39116.7646885\ttotal: 1.82s\tremaining: 2.62s\n",
      "164:\tlearn: 39047.6542380\ttotal: 1.83s\tremaining: 2.6s\n",
      "165:\tlearn: 38975.8987911\ttotal: 1.84s\tremaining: 2.59s\n",
      "166:\tlearn: 38845.0921987\ttotal: 1.86s\tremaining: 2.59s\n",
      "167:\tlearn: 38703.9449435\ttotal: 1.87s\tremaining: 2.59s\n",
      "168:\tlearn: 38694.1446956\ttotal: 1.89s\tremaining: 2.58s\n",
      "169:\tlearn: 38595.1103101\ttotal: 1.91s\tremaining: 2.58s\n",
      "170:\tlearn: 38549.5007286\ttotal: 1.92s\tremaining: 2.57s\n",
      "171:\tlearn: 38513.3951060\ttotal: 1.94s\tremaining: 2.57s\n",
      "172:\tlearn: 38401.8130608\ttotal: 1.96s\tremaining: 2.57s\n",
      "173:\tlearn: 38321.9577738\ttotal: 1.97s\tremaining: 2.56s\n",
      "174:\tlearn: 38278.6208298\ttotal: 2s\tremaining: 2.57s\n",
      "175:\tlearn: 38165.1994920\ttotal: 2.04s\tremaining: 2.6s\n",
      "176:\tlearn: 38145.6932782\ttotal: 2.06s\tremaining: 2.6s\n",
      "177:\tlearn: 38108.9180059\ttotal: 2.08s\tremaining: 2.6s\n",
      "178:\tlearn: 38090.0140032\ttotal: 2.11s\tremaining: 2.6s\n",
      "179:\tlearn: 38046.4413881\ttotal: 2.13s\tremaining: 2.6s\n",
      "180:\tlearn: 37955.3636000\ttotal: 2.15s\tremaining: 2.6s\n",
      "181:\tlearn: 37894.8207095\ttotal: 2.17s\tremaining: 2.6s\n",
      "182:\tlearn: 37850.2426242\ttotal: 2.19s\tremaining: 2.6s\n",
      "183:\tlearn: 37809.8208528\ttotal: 2.21s\tremaining: 2.6s\n",
      "184:\tlearn: 37729.7484033\ttotal: 2.22s\tremaining: 2.58s\n",
      "185:\tlearn: 37685.8786653\ttotal: 2.24s\tremaining: 2.57s\n",
      "186:\tlearn: 37638.6796362\ttotal: 2.25s\tremaining: 2.56s\n",
      "187:\tlearn: 37629.2982999\ttotal: 2.26s\tremaining: 2.55s\n",
      "188:\tlearn: 37582.1951134\ttotal: 2.28s\tremaining: 2.54s\n",
      "189:\tlearn: 37526.4429836\ttotal: 2.29s\tremaining: 2.53s\n",
      "190:\tlearn: 37466.7193724\ttotal: 2.3s\tremaining: 2.52s\n",
      "191:\tlearn: 37431.3046047\ttotal: 2.31s\tremaining: 2.5s\n",
      "192:\tlearn: 37349.4780221\ttotal: 2.32s\tremaining: 2.49s\n",
      "193:\tlearn: 37315.3169868\ttotal: 2.33s\tremaining: 2.47s\n",
      "194:\tlearn: 37251.1649385\ttotal: 2.33s\tremaining: 2.45s\n",
      "195:\tlearn: 37185.6559537\ttotal: 2.34s\tremaining: 2.43s\n",
      "196:\tlearn: 37166.4490125\ttotal: 2.35s\tremaining: 2.42s\n",
      "197:\tlearn: 37082.2726929\ttotal: 2.35s\tremaining: 2.4s\n",
      "198:\tlearn: 37033.2796883\ttotal: 2.36s\tremaining: 2.38s\n",
      "199:\tlearn: 36944.6916199\ttotal: 2.37s\tremaining: 2.37s\n",
      "200:\tlearn: 36910.4148278\ttotal: 2.38s\tremaining: 2.35s\n",
      "201:\tlearn: 36812.1892619\ttotal: 2.38s\tremaining: 2.33s\n",
      "202:\tlearn: 36741.6331615\ttotal: 2.39s\tremaining: 2.32s\n",
      "203:\tlearn: 36715.0631553\ttotal: 2.4s\tremaining: 2.3s\n",
      "204:\tlearn: 36701.9944682\ttotal: 2.4s\tremaining: 2.29s\n",
      "205:\tlearn: 36659.7359382\ttotal: 2.41s\tremaining: 2.27s\n",
      "206:\tlearn: 36647.2029549\ttotal: 2.42s\tremaining: 2.25s\n",
      "207:\tlearn: 36617.6791289\ttotal: 2.42s\tremaining: 2.24s\n",
      "208:\tlearn: 36577.3277998\ttotal: 2.43s\tremaining: 2.22s\n",
      "209:\tlearn: 36489.3223704\ttotal: 2.44s\tremaining: 2.2s\n",
      "210:\tlearn: 36435.0027790\ttotal: 2.44s\tremaining: 2.19s\n",
      "211:\tlearn: 36406.7296174\ttotal: 2.45s\tremaining: 2.17s\n",
      "212:\tlearn: 36394.3231690\ttotal: 2.46s\tremaining: 2.16s\n",
      "213:\tlearn: 36276.3530024\ttotal: 2.46s\tremaining: 2.14s\n",
      "214:\tlearn: 36225.3170663\ttotal: 2.47s\tremaining: 2.13s\n",
      "215:\tlearn: 36194.6991543\ttotal: 2.48s\tremaining: 2.11s\n",
      "216:\tlearn: 36158.9397637\ttotal: 2.48s\tremaining: 2.09s\n",
      "217:\tlearn: 36095.1459484\ttotal: 2.49s\tremaining: 2.08s\n",
      "218:\tlearn: 35994.5691722\ttotal: 2.5s\tremaining: 2.06s\n",
      "219:\tlearn: 35990.6152194\ttotal: 2.5s\tremaining: 2.05s\n",
      "220:\tlearn: 35908.8304087\ttotal: 2.51s\tremaining: 2.03s\n",
      "221:\tlearn: 35826.1157733\ttotal: 2.52s\tremaining: 2.02s\n",
      "222:\tlearn: 35826.0698135\ttotal: 2.52s\tremaining: 2s\n",
      "223:\tlearn: 35798.3294185\ttotal: 2.53s\tremaining: 1.99s\n",
      "224:\tlearn: 35771.6650000\ttotal: 2.54s\tremaining: 1.97s\n",
      "225:\tlearn: 35681.0956413\ttotal: 2.54s\tremaining: 1.96s\n",
      "226:\tlearn: 35608.1277992\ttotal: 2.55s\tremaining: 1.94s\n",
      "227:\tlearn: 35581.5781229\ttotal: 2.56s\tremaining: 1.93s\n",
      "228:\tlearn: 35550.3758285\ttotal: 2.58s\tremaining: 1.92s\n",
      "229:\tlearn: 35457.3179105\ttotal: 2.58s\tremaining: 1.91s\n",
      "230:\tlearn: 35379.6245852\ttotal: 2.59s\tremaining: 1.9s\n",
      "231:\tlearn: 35322.9572358\ttotal: 2.6s\tremaining: 1.89s\n",
      "232:\tlearn: 35319.7853010\ttotal: 2.61s\tremaining: 1.87s\n",
      "233:\tlearn: 35285.6296278\ttotal: 2.62s\tremaining: 1.86s\n",
      "234:\tlearn: 35260.0459170\ttotal: 2.64s\tremaining: 1.85s\n",
      "235:\tlearn: 35236.6507449\ttotal: 2.65s\tremaining: 1.84s\n",
      "236:\tlearn: 35199.9981959\ttotal: 2.67s\tremaining: 1.83s\n",
      "237:\tlearn: 35110.1769278\ttotal: 2.68s\tremaining: 1.82s\n",
      "238:\tlearn: 35077.9246549\ttotal: 2.7s\tremaining: 1.82s\n",
      "239:\tlearn: 35037.1614959\ttotal: 2.71s\tremaining: 1.81s\n",
      "240:\tlearn: 35030.3351362\ttotal: 2.72s\tremaining: 1.8s\n",
      "241:\tlearn: 35028.3538848\ttotal: 2.74s\tremaining: 1.79s\n",
      "242:\tlearn: 34994.0576877\ttotal: 2.74s\tremaining: 1.77s\n",
      "243:\tlearn: 34986.2098186\ttotal: 2.76s\tremaining: 1.76s\n",
      "244:\tlearn: 34930.0439074\ttotal: 2.77s\tremaining: 1.75s\n",
      "245:\tlearn: 34897.3376611\ttotal: 2.77s\tremaining: 1.74s\n",
      "246:\tlearn: 34834.3438827\ttotal: 2.79s\tremaining: 1.73s\n",
      "247:\tlearn: 34813.5219840\ttotal: 2.8s\tremaining: 1.72s\n",
      "248:\tlearn: 34812.6301171\ttotal: 2.81s\tremaining: 1.7s\n",
      "249:\tlearn: 34716.1063515\ttotal: 2.82s\tremaining: 1.69s\n",
      "250:\tlearn: 34707.4390151\ttotal: 2.84s\tremaining: 1.68s\n",
      "251:\tlearn: 34628.5540627\ttotal: 2.85s\tremaining: 1.68s\n",
      "252:\tlearn: 34611.9887001\ttotal: 2.87s\tremaining: 1.67s\n",
      "253:\tlearn: 34589.4251948\ttotal: 2.88s\tremaining: 1.66s\n",
      "254:\tlearn: 34576.1163769\ttotal: 2.9s\tremaining: 1.65s\n",
      "255:\tlearn: 34513.5199337\ttotal: 2.92s\tremaining: 1.64s\n",
      "256:\tlearn: 34479.7319149\ttotal: 2.94s\tremaining: 1.63s\n",
      "257:\tlearn: 34466.6534236\ttotal: 2.95s\tremaining: 1.63s\n",
      "258:\tlearn: 34450.0556438\ttotal: 2.97s\tremaining: 1.61s\n",
      "259:\tlearn: 34410.3433623\ttotal: 2.98s\tremaining: 1.61s\n",
      "260:\tlearn: 34370.0665535\ttotal: 3s\tremaining: 1.6s\n",
      "261:\tlearn: 34368.7198249\ttotal: 3.02s\tremaining: 1.59s\n",
      "262:\tlearn: 34326.7044233\ttotal: 3.04s\tremaining: 1.58s\n",
      "263:\tlearn: 34269.6313776\ttotal: 3.06s\tremaining: 1.57s\n",
      "264:\tlearn: 34264.8115019\ttotal: 3.07s\tremaining: 1.56s\n",
      "265:\tlearn: 34234.7763118\ttotal: 3.09s\tremaining: 1.55s\n",
      "266:\tlearn: 34216.8150667\ttotal: 3.1s\tremaining: 1.55s\n",
      "267:\tlearn: 34185.3354083\ttotal: 3.12s\tremaining: 1.54s\n",
      "268:\tlearn: 34150.5684376\ttotal: 3.14s\tremaining: 1.53s\n",
      "269:\tlearn: 34107.0206726\ttotal: 3.15s\tremaining: 1.52s\n",
      "270:\tlearn: 34106.5576244\ttotal: 3.17s\tremaining: 1.51s\n",
      "271:\tlearn: 34105.2301887\ttotal: 3.18s\tremaining: 1.5s\n",
      "272:\tlearn: 34058.6372876\ttotal: 3.2s\tremaining: 1.49s\n",
      "273:\tlearn: 34041.0162682\ttotal: 3.22s\tremaining: 1.48s\n",
      "274:\tlearn: 34031.4989623\ttotal: 3.23s\tremaining: 1.47s\n",
      "275:\tlearn: 34013.2263032\ttotal: 3.25s\tremaining: 1.46s\n",
      "276:\tlearn: 33996.7622699\ttotal: 3.27s\tremaining: 1.45s\n",
      "277:\tlearn: 33990.8284084\ttotal: 3.29s\tremaining: 1.44s\n",
      "278:\tlearn: 33974.8392881\ttotal: 3.31s\tremaining: 1.44s\n",
      "279:\tlearn: 33951.8798522\ttotal: 3.33s\tremaining: 1.43s\n",
      "280:\tlearn: 33936.3636192\ttotal: 3.35s\tremaining: 1.42s\n",
      "281:\tlearn: 33859.3676828\ttotal: 3.36s\tremaining: 1.41s\n",
      "282:\tlearn: 33802.3467892\ttotal: 3.38s\tremaining: 1.4s\n",
      "283:\tlearn: 33796.2557490\ttotal: 3.39s\tremaining: 1.39s\n",
      "284:\tlearn: 33789.3634643\ttotal: 3.41s\tremaining: 1.38s\n",
      "285:\tlearn: 33649.7781334\ttotal: 3.43s\tremaining: 1.37s\n",
      "286:\tlearn: 33646.0503362\ttotal: 3.44s\tremaining: 1.35s\n",
      "287:\tlearn: 33640.7227249\ttotal: 3.46s\tremaining: 1.35s\n",
      "288:\tlearn: 33634.8435405\ttotal: 3.48s\tremaining: 1.33s\n",
      "289:\tlearn: 33633.5754944\ttotal: 3.49s\tremaining: 1.32s\n",
      "290:\tlearn: 33621.8761714\ttotal: 3.5s\tremaining: 1.31s\n",
      "291:\tlearn: 33591.3321049\ttotal: 3.51s\tremaining: 1.3s\n",
      "292:\tlearn: 33517.9228292\ttotal: 3.52s\tremaining: 1.29s\n",
      "293:\tlearn: 33464.0213459\ttotal: 3.54s\tremaining: 1.27s\n",
      "294:\tlearn: 33440.5174470\ttotal: 3.54s\tremaining: 1.26s\n",
      "295:\tlearn: 33435.4085600\ttotal: 3.55s\tremaining: 1.25s\n",
      "296:\tlearn: 33434.9397459\ttotal: 3.56s\tremaining: 1.23s\n",
      "297:\tlearn: 33399.1344295\ttotal: 3.57s\tremaining: 1.22s\n",
      "298:\tlearn: 33391.0431278\ttotal: 3.58s\tremaining: 1.21s\n",
      "299:\tlearn: 33360.9234501\ttotal: 3.59s\tremaining: 1.2s\n",
      "300:\tlearn: 33359.0868437\ttotal: 3.6s\tremaining: 1.19s\n",
      "301:\tlearn: 33352.3844549\ttotal: 3.61s\tremaining: 1.17s\n",
      "302:\tlearn: 33338.8939606\ttotal: 3.62s\tremaining: 1.16s\n",
      "303:\tlearn: 33338.0931407\ttotal: 3.63s\tremaining: 1.15s\n",
      "304:\tlearn: 33279.6061439\ttotal: 3.64s\tremaining: 1.13s\n",
      "305:\tlearn: 33238.1891765\ttotal: 3.65s\tremaining: 1.12s\n",
      "306:\tlearn: 33231.9392015\ttotal: 3.66s\tremaining: 1.11s\n",
      "307:\tlearn: 33216.1450725\ttotal: 3.67s\tremaining: 1.1s\n",
      "308:\tlearn: 33211.8541762\ttotal: 3.69s\tremaining: 1.09s\n",
      "309:\tlearn: 33153.3613684\ttotal: 3.7s\tremaining: 1.07s\n",
      "310:\tlearn: 33140.7875833\ttotal: 3.71s\tremaining: 1.06s\n",
      "311:\tlearn: 33048.2663563\ttotal: 3.73s\tremaining: 1.05s\n",
      "312:\tlearn: 33031.6070750\ttotal: 3.74s\tremaining: 1.04s\n",
      "313:\tlearn: 33010.8008515\ttotal: 3.75s\tremaining: 1.03s\n",
      "314:\tlearn: 32966.7488617\ttotal: 3.75s\tremaining: 1.01s\n",
      "315:\tlearn: 32966.1816843\ttotal: 3.76s\tremaining: 1s\n",
      "316:\tlearn: 32962.4818734\ttotal: 3.77s\tremaining: 987ms\n",
      "317:\tlearn: 32930.6807311\ttotal: 3.78s\tremaining: 974ms\n"
     ]
    },
    {
     "name": "stdout",
     "output_type": "stream",
     "text": [
      "318:\tlearn: 32923.2662552\ttotal: 3.79s\tremaining: 961ms\n",
      "319:\tlearn: 32917.1286797\ttotal: 3.79s\tremaining: 949ms\n",
      "320:\tlearn: 32884.3884600\ttotal: 3.8s\tremaining: 935ms\n",
      "321:\tlearn: 32874.0570320\ttotal: 3.81s\tremaining: 922ms\n",
      "322:\tlearn: 32860.9869368\ttotal: 3.81s\tremaining: 909ms\n",
      "323:\tlearn: 32793.2893913\ttotal: 3.82s\tremaining: 896ms\n",
      "324:\tlearn: 32790.0080991\ttotal: 3.83s\tremaining: 883ms\n",
      "325:\tlearn: 32786.6077641\ttotal: 3.83s\tremaining: 870ms\n",
      "326:\tlearn: 32782.6943414\ttotal: 3.84s\tremaining: 857ms\n",
      "327:\tlearn: 32727.7775562\ttotal: 3.85s\tremaining: 844ms\n",
      "328:\tlearn: 32725.1854958\ttotal: 3.85s\tremaining: 832ms\n",
      "329:\tlearn: 32708.4919192\ttotal: 3.86s\tremaining: 819ms\n",
      "330:\tlearn: 32705.0870372\ttotal: 3.87s\tremaining: 806ms\n",
      "331:\tlearn: 32651.1788206\ttotal: 3.87s\tremaining: 793ms\n",
      "332:\tlearn: 32646.8757478\ttotal: 3.88s\tremaining: 781ms\n",
      "333:\tlearn: 32635.8551469\ttotal: 3.88s\tremaining: 768ms\n",
      "334:\tlearn: 32631.1582433\ttotal: 3.89s\tremaining: 755ms\n",
      "335:\tlearn: 32620.4754699\ttotal: 3.9s\tremaining: 743ms\n",
      "336:\tlearn: 32595.4782725\ttotal: 3.9s\tremaining: 730ms\n",
      "337:\tlearn: 32591.1862933\ttotal: 3.91s\tremaining: 718ms\n",
      "338:\tlearn: 32589.9861509\ttotal: 3.92s\tremaining: 705ms\n",
      "339:\tlearn: 32586.7825765\ttotal: 3.93s\tremaining: 693ms\n",
      "340:\tlearn: 32567.3725420\ttotal: 3.93s\tremaining: 680ms\n",
      "341:\tlearn: 32506.4590600\ttotal: 3.94s\tremaining: 668ms\n",
      "342:\tlearn: 32493.9297645\ttotal: 3.95s\tremaining: 656ms\n",
      "343:\tlearn: 32491.9610773\ttotal: 3.95s\tremaining: 644ms\n",
      "344:\tlearn: 32489.4129566\ttotal: 3.96s\tremaining: 632ms\n",
      "345:\tlearn: 32489.2053839\ttotal: 3.97s\tremaining: 620ms\n",
      "346:\tlearn: 32482.0787650\ttotal: 3.98s\tremaining: 608ms\n",
      "347:\tlearn: 32481.1825425\ttotal: 4s\tremaining: 597ms\n",
      "348:\tlearn: 32444.3542086\ttotal: 4s\tremaining: 585ms\n",
      "349:\tlearn: 32392.4824903\ttotal: 4.01s\tremaining: 573ms\n",
      "350:\tlearn: 32333.9743774\ttotal: 4.03s\tremaining: 562ms\n",
      "351:\tlearn: 32331.0800703\ttotal: 4.04s\tremaining: 551ms\n",
      "352:\tlearn: 32328.3224822\ttotal: 4.05s\tremaining: 539ms\n",
      "353:\tlearn: 32323.6312282\ttotal: 4.06s\tremaining: 527ms\n",
      "354:\tlearn: 32306.3467484\ttotal: 4.07s\tremaining: 515ms\n",
      "355:\tlearn: 32304.2448462\ttotal: 4.08s\tremaining: 504ms\n",
      "356:\tlearn: 32281.0880782\ttotal: 4.09s\tremaining: 493ms\n",
      "357:\tlearn: 32275.9267376\ttotal: 4.1s\tremaining: 481ms\n",
      "358:\tlearn: 32255.5803548\ttotal: 4.11s\tremaining: 469ms\n",
      "359:\tlearn: 32255.0421919\ttotal: 4.12s\tremaining: 458ms\n",
      "360:\tlearn: 32241.0076371\ttotal: 4.13s\tremaining: 446ms\n",
      "361:\tlearn: 32218.3190615\ttotal: 4.14s\tremaining: 435ms\n",
      "362:\tlearn: 32211.0136085\ttotal: 4.15s\tremaining: 423ms\n",
      "363:\tlearn: 32207.2159304\ttotal: 4.16s\tremaining: 412ms\n",
      "364:\tlearn: 32169.6783328\ttotal: 4.17s\tremaining: 400ms\n",
      "365:\tlearn: 32167.2523430\ttotal: 4.19s\tremaining: 389ms\n",
      "366:\tlearn: 32165.1496477\ttotal: 4.2s\tremaining: 378ms\n",
      "367:\tlearn: 32154.0772695\ttotal: 4.21s\tremaining: 366ms\n",
      "368:\tlearn: 32153.0714327\ttotal: 4.23s\tremaining: 355ms\n",
      "369:\tlearn: 32119.5934198\ttotal: 4.24s\tremaining: 344ms\n",
      "370:\tlearn: 32116.3100793\ttotal: 4.26s\tremaining: 333ms\n",
      "371:\tlearn: 32081.6874060\ttotal: 4.26s\tremaining: 321ms\n",
      "372:\tlearn: 32047.1754643\ttotal: 4.27s\tremaining: 309ms\n",
      "373:\tlearn: 32037.8761030\ttotal: 4.28s\tremaining: 297ms\n",
      "374:\tlearn: 32027.4766576\ttotal: 4.29s\tremaining: 286ms\n",
      "375:\tlearn: 32017.3751588\ttotal: 4.29s\tremaining: 274ms\n",
      "376:\tlearn: 32017.0150818\ttotal: 4.3s\tremaining: 262ms\n",
      "377:\tlearn: 31997.0041498\ttotal: 4.31s\tremaining: 251ms\n",
      "378:\tlearn: 31993.4012842\ttotal: 4.31s\tremaining: 239ms\n",
      "379:\tlearn: 31984.4348743\ttotal: 4.32s\tremaining: 227ms\n",
      "380:\tlearn: 31941.0818733\ttotal: 4.33s\tremaining: 216ms\n",
      "381:\tlearn: 31858.7478600\ttotal: 4.33s\tremaining: 204ms\n",
      "382:\tlearn: 31851.7311254\ttotal: 4.34s\tremaining: 193ms\n",
      "383:\tlearn: 31838.5415051\ttotal: 4.35s\tremaining: 181ms\n",
      "384:\tlearn: 31818.9287492\ttotal: 4.35s\tremaining: 170ms\n",
      "385:\tlearn: 31805.3233742\ttotal: 4.36s\tremaining: 158ms\n",
      "386:\tlearn: 31779.3816978\ttotal: 4.37s\tremaining: 147ms\n",
      "387:\tlearn: 31778.4765457\ttotal: 4.37s\tremaining: 135ms\n",
      "388:\tlearn: 31745.0586636\ttotal: 4.38s\tremaining: 124ms\n",
      "389:\tlearn: 31744.9744907\ttotal: 4.4s\tremaining: 113ms\n",
      "390:\tlearn: 31730.1286222\ttotal: 4.41s\tremaining: 102ms\n",
      "391:\tlearn: 31648.9664696\ttotal: 4.42s\tremaining: 90.3ms\n",
      "392:\tlearn: 31629.0395855\ttotal: 4.44s\tremaining: 79ms\n",
      "393:\tlearn: 31621.5695237\ttotal: 4.44s\tremaining: 67.7ms\n",
      "394:\tlearn: 31602.2247813\ttotal: 4.45s\tremaining: 56.3ms\n",
      "395:\tlearn: 31601.6524520\ttotal: 4.46s\tremaining: 45ms\n",
      "396:\tlearn: 31598.4290680\ttotal: 4.46s\tremaining: 33.7ms\n",
      "397:\tlearn: 31596.3397905\ttotal: 4.47s\tremaining: 22.5ms\n",
      "398:\tlearn: 31579.3726226\ttotal: 4.48s\tremaining: 11.2ms\n",
      "399:\tlearn: 31556.6983458\ttotal: 4.48s\tremaining: 0us\n"
     ]
    },
    {
     "data": {
      "text/plain": [
       "<catboost.core.CatBoostRegressor at 0x1a1dd84e80>"
      ]
     },
     "execution_count": 51,
     "metadata": {},
     "output_type": "execute_result"
    }
   ],
   "source": [
    "catboost.fit(X_train, y_train)"
   ]
  },
  {
   "cell_type": "code",
   "execution_count": 52,
   "metadata": {},
   "outputs": [
    {
     "name": "stdout",
     "output_type": "stream",
     "text": [
      "train MSE: 995825210.4877136\n",
      "val MSE: 782900887.313009\n"
     ]
    }
   ],
   "source": [
    "catboost_pred = catboost.predict(X_train)\n",
    "print('train MSE:', mean_squared_error(catboost_pred, y_train))\n",
    "catboost_pred = catboost.predict(X_val)\n",
    "print('val MSE:', mean_squared_error(catboost_pred, y_val))"
   ]
  },
  {
   "cell_type": "code",
   "execution_count": 53,
   "metadata": {},
   "outputs": [
    {
     "name": "stdout",
     "output_type": "stream",
     "text": [
      "0.7277480507165875\n"
     ]
    }
   ],
   "source": [
    "print(mean_squared_error(catboost_pred, y_val) / mean_squared_error(rf_regressor_pred, y_val))"
   ]
  },
  {
   "cell_type": "markdown",
   "metadata": {},
   "source": [
    "### Ensemble\n"
   ]
  },
  {
   "cell_type": "code",
   "execution_count": 54,
   "metadata": {
    "collapsed": true
   },
   "outputs": [],
   "source": [
    "def split_data (k, X):\n",
    "    n = X.shape[0] \n",
    "    split_X = [X[(n//k)*i : (n//k)*(i+1)] for i in range (0, k-n%k)]\n",
    "    a = (k-n%k) * (n//k)\n",
    "    for i in range (0, n%k):\n",
    "        split_X.append(X[a+i*(n-a)//(n%k): a+(i+1)*(n-a)//(n%k)])\n",
    "    return split_X"
   ]
  },
  {
   "cell_type": "code",
   "execution_count": 55,
   "metadata": {
    "collapsed": true
   },
   "outputs": [],
   "source": [
    "def remove(List,i):\n",
    "    return List[:i] + List[i+1:]"
   ]
  },
  {
   "cell_type": "code",
   "execution_count": 56,
   "metadata": {},
   "outputs": [
    {
     "data": {
      "text/plain": [
       "[array([[1, 2]]), array([[2, 3],\n",
       "        [3, 4]])]"
      ]
     },
     "execution_count": 56,
     "metadata": {},
     "output_type": "execute_result"
    }
   ],
   "source": [
    "X = np.array([[1,2],[2,3],[3,4]])\n",
    "split_data (2, X)"
   ]
  },
  {
   "cell_type": "code",
   "execution_count": 57,
   "metadata": {
    "collapsed": true
   },
   "outputs": [],
   "source": [
    "from sklearn.linear_model import LinearRegression"
   ]
  },
  {
   "cell_type": "code",
   "execution_count": 58,
   "metadata": {
    "collapsed": true
   },
   "outputs": [],
   "source": [
    "def weighted_pred (predictions_ensemble, y_true, metric=mean_squared_error, less_better=True):\n",
    "    weighted_prediction = np.zeros(len(y_val))\n",
    "    prediction_metric = []\n",
    "    if less_better:\n",
    "        for prediction in predictions_ensemble:\n",
    "            prediction_metric.append(1 / metric(prediction, y_true))\n",
    "            weighted_prediction += np.array(prediction) * prediction_metric[-1]\n",
    "    else:\n",
    "        for prediction in predictions_ensemble:\n",
    "            prediction_metric.append(metric(prediction, y_true))\n",
    "            weighted_prediction += np.array(prediction) * prediction_metric[-1]\n",
    "    return weighted_prediction / sum(prediction_metric), np.array(prediction_metric) / sum(prediction_metric)\n",
    "\n",
    "def MyEnsemble_predict (Ensemble, X_val, y_val,metric=mean_squared_error, less_better=True):\n",
    "    predictions_ensemble = []\n",
    "    for i, boost in enumerate(Ensemble):\n",
    "        predictions_ensemble.append(boost.predict (X_val))\n",
    "    return weighted_pred(predictions_ensemble, y_val, metric=metric, less_better=less_better)"
   ]
  },
  {
   "cell_type": "code",
   "execution_count": 59,
   "metadata": {
    "collapsed": true
   },
   "outputs": [],
   "source": [
    "def find_weights (FINAL_STACK, y, metric=mean_squared_error, less_better=True, step=0.001,iterations=500):\n",
    "    weights = np.array([1/len(FINAL_STACK) for i in range (len(FINAL_STACK))])\n",
    "    result =  metric (y, np.array(FINAL_STACK).T.dot(weights)) \n",
    "    sum_koef = sum(weights)\n",
    "    for i in range (iterations):\n",
    "        for j in range (len(FINAL_STACK)):\n",
    "            weights[j] += step\n",
    "            iter_res_p = metric (y, np.array(FINAL_STACK).T.dot(weights) / (sum_koef + step))\n",
    "            if (iter_res_p > result and less_better==True) or (iter_res_p < result and less_better==False):\n",
    "                weights[j] -= 2 * step\n",
    "                iter_res_n = metric (y, np.array(FINAL_STACK).T.dot(np.array(weights)) / (sum_koef - step))\n",
    "                if (iter_res_n < result and less_better==True) or (iter_res_n > result and less_better==False):\n",
    "                    result = iter_res_n \n",
    "                    sum_koef -= step\n",
    "                else:\n",
    "                    weights[j] += step\n",
    "            else: \n",
    "                result = iter_res_p \n",
    "                sum_koef += step\n",
    "                \n",
    "    return np.array(FINAL_STACK).T.dot(weights) / sum_koef, weights / sum(weights)"
   ]
  },
  {
   "cell_type": "code",
   "execution_count": 60,
   "metadata": {
    "collapsed": true
   },
   "outputs": [],
   "source": [
    "def stacking (MyEnsemble, n, X_train, X_test, y_train, fit=False): #n - number of folds\n",
    "    split_X = split_data (n, X_train)\n",
    "    split_y = split_data (n, y_train)\n",
    "    A_meta = []\n",
    "    T_meta = []\n",
    "    for model in MyEnsemble:\n",
    "        if fit == True:\n",
    "            model.fit(X_train, y_train)\n",
    "        T_meta.append(np.array(model.predict(X_test)))\n",
    "    for i in range (n):\n",
    "        X_pred = split_X[i]\n",
    "        X_iter = np.concatenate(remove(split_X, i))\n",
    "        y_iter = np.concatenate(remove(split_y, i))\n",
    "        A_meta_iter=[]\n",
    "        for model in MyEnsemble:\n",
    "            if fit == True:\n",
    "                model.fit(X_iter, y_iter)\n",
    "            A_meta_iter.append(np.array(model.predict(X_pred)))\n",
    "        A_meta_iter = np.vstack(A_meta_iter).T\n",
    "        A_meta.append(A_meta_iter)\n",
    "    A_meta = np.vstack(A_meta)\n",
    "    T_meta = np.vstack(T_meta).T\n",
    "    LR = LinearRegression(normalize=True)\n",
    "    LR.fit(A_meta, y_train)\n",
    "    return LR.predict(T_meta)"
   ]
  },
  {
   "cell_type": "code",
   "execution_count": 61,
   "metadata": {
    "collapsed": true
   },
   "outputs": [],
   "source": [
    "MyEnsemble = [boost, rf_regressor, xgb_regressor, catboost]"
   ]
  },
  {
   "cell_type": "code",
   "execution_count": 62,
   "metadata": {},
   "outputs": [
    {
     "name": "stderr",
     "output_type": "stream",
     "text": [
      "[Parallel(n_jobs=4)]: Done  42 tasks      | elapsed:    0.0s\n",
      "[Parallel(n_jobs=4)]: Done 100 out of 100 | elapsed:    0.0s finished\n",
      "[Parallel(n_jobs=4)]: Done  42 tasks      | elapsed:    0.0s\n",
      "[Parallel(n_jobs=4)]: Done 100 out of 100 | elapsed:    0.0s finished\n",
      "[Parallel(n_jobs=4)]: Done  42 tasks      | elapsed:    0.0s\n",
      "[Parallel(n_jobs=4)]: Done 100 out of 100 | elapsed:    0.0s finished\n",
      "[Parallel(n_jobs=4)]: Done  42 tasks      | elapsed:    0.0s\n",
      "[Parallel(n_jobs=4)]: Done 100 out of 100 | elapsed:    0.0s finished\n"
     ]
    }
   ],
   "source": [
    "Stack_pred = stacking (MyEnsemble, 3, X_train, X_val, y_train)"
   ]
  },
  {
   "cell_type": "code",
   "execution_count": 63,
   "metadata": {},
   "outputs": [
    {
     "name": "stdout",
     "output_type": "stream",
     "text": [
      "0.6226769748169668\n"
     ]
    }
   ],
   "source": [
    "print(mean_squared_error(Stack_pred, y_val) / mean_squared_error(rf_regressor_pred, y_val))"
   ]
  },
  {
   "cell_type": "code",
   "execution_count": 64,
   "metadata": {
    "collapsed": true
   },
   "outputs": [],
   "source": [
    "from sklearn.metrics import mean_absolute_error as MAE\n",
    "from sklearn.metrics import explained_variance_score as EVS"
   ]
  },
  {
   "cell_type": "code",
   "execution_count": 65,
   "metadata": {},
   "outputs": [
    {
     "name": "stderr",
     "output_type": "stream",
     "text": [
      "[Parallel(n_jobs=4)]: Done  42 tasks      | elapsed:    0.0s\n",
      "[Parallel(n_jobs=4)]: Done 100 out of 100 | elapsed:    0.0s finished\n",
      "[Parallel(n_jobs=4)]: Done  42 tasks      | elapsed:    0.0s\n",
      "[Parallel(n_jobs=4)]: Done 100 out of 100 | elapsed:    0.0s finished\n",
      "[Parallel(n_jobs=4)]: Done  42 tasks      | elapsed:    0.0s\n",
      "[Parallel(n_jobs=4)]: Done 100 out of 100 | elapsed:    0.0s finished\n"
     ]
    }
   ],
   "source": [
    "final_prediction_1 = MyEnsemble_predict (MyEnsemble, X_val, y_val, metric=mean_squared_error)\n",
    "final_prediction_2 = MyEnsemble_predict (MyEnsemble, X_val, y_val, metric=MAE)\n",
    "final_prediction_3 = MyEnsemble_predict (MyEnsemble, X_val, y_val, metric=EVS, less_better=False)"
   ]
  },
  {
   "cell_type": "code",
   "execution_count": 66,
   "metadata": {
    "collapsed": true
   },
   "outputs": [],
   "source": [
    "FINAL_STACK = [Stack_pred, final_prediction_1[0], final_prediction_3[0], final_prediction_2[0]]"
   ]
  },
  {
   "cell_type": "code",
   "execution_count": 67,
   "metadata": {
    "collapsed": true
   },
   "outputs": [],
   "source": [
    "FINAL_PREDICT = find_weights(FINAL_STACK, y_val, metric=mean_squared_error, less_better=True, step=0.0001,iterations=10000)"
   ]
  },
  {
   "cell_type": "code",
   "execution_count": 68,
   "metadata": {},
   "outputs": [
    {
     "data": {
      "text/plain": [
       "array([-0.08108108, 12.22245322, -9.40540541, -1.73596674])"
      ]
     },
     "execution_count": 68,
     "metadata": {},
     "output_type": "execute_result"
    }
   ],
   "source": [
    "FINAL_PREDICT[1]"
   ]
  },
  {
   "cell_type": "code",
   "execution_count": 69,
   "metadata": {},
   "outputs": [
    {
     "name": "stdout",
     "output_type": "stream",
     "text": [
      "0.526471934393903\n"
     ]
    }
   ],
   "source": [
    "print(mean_squared_error(FINAL_PREDICT[0], y_val) / mean_squared_error(rf_regressor_pred, y_val))"
   ]
  },
  {
   "cell_type": "markdown",
   "metadata": {},
   "source": [
    "## Тестирование:"
   ]
  },
  {
   "cell_type": "code",
   "execution_count": 70,
   "metadata": {
    "collapsed": true
   },
   "outputs": [],
   "source": [
    "from sklearn.metrics import mean_squared_error "
   ]
  },
  {
   "cell_type": "code",
   "execution_count": 71,
   "metadata": {
    "collapsed": true
   },
   "outputs": [],
   "source": [
    "df = pd.read_csv('./data/test.csv')\n",
    "test = df.copy()"
   ]
  },
  {
   "cell_type": "code",
   "execution_count": 72,
   "metadata": {},
   "outputs": [
    {
     "name": "stderr",
     "output_type": "stream",
     "text": [
      "/Users/aleksandrkagan/anaconda3/lib/python3.6/site-packages/pandas/core/generic.py:3660: SettingWithCopyWarning: \n",
      "A value is trying to be set on a copy of a slice from a DataFrame\n",
      "\n",
      "See the caveats in the documentation: http://pandas.pydata.org/pandas-docs/stable/indexing.html#indexing-view-versus-copy\n",
      "  self._update_inplace(new_data)\n"
     ]
    }
   ],
   "source": [
    "test_num = test.select_dtypes(include=['int', 'float'])\n",
    "X_test = np.array(test_num.fillna(test_num.mean(), inplace=True).drop(labels=['player_ID'], axis=1))"
   ]
  },
  {
   "cell_type": "code",
   "execution_count": 73,
   "metadata": {},
   "outputs": [
    {
     "name": "stderr",
     "output_type": "stream",
     "text": [
      "[Parallel(n_jobs=4)]: Done  42 tasks      | elapsed:    0.0s\n",
      "[Parallel(n_jobs=4)]: Done 100 out of 100 | elapsed:    0.0s finished\n"
     ]
    }
   ],
   "source": [
    "Predictions = [model.predict(X_test) for model in MyEnsemble]"
   ]
  },
  {
   "cell_type": "code",
   "execution_count": 74,
   "metadata": {},
   "outputs": [
    {
     "name": "stderr",
     "output_type": "stream",
     "text": [
      "[Parallel(n_jobs=4)]: Done  42 tasks      | elapsed:    0.0s\n",
      "[Parallel(n_jobs=4)]: Done 100 out of 100 | elapsed:    0.0s finished\n",
      "[Parallel(n_jobs=4)]: Done  42 tasks      | elapsed:    0.0s\n",
      "[Parallel(n_jobs=4)]: Done 100 out of 100 | elapsed:    0.0s finished\n",
      "[Parallel(n_jobs=4)]: Done  42 tasks      | elapsed:    0.0s\n",
      "[Parallel(n_jobs=4)]: Done 100 out of 100 | elapsed:    0.0s finished\n",
      "[Parallel(n_jobs=4)]: Done  42 tasks      | elapsed:    0.0s\n",
      "[Parallel(n_jobs=4)]: Done 100 out of 100 | elapsed:    0.0s finished\n"
     ]
    }
   ],
   "source": [
    "Stack_pred_test = stacking (MyEnsemble, 3, X_train, X_test, y_train)\n",
    "test_answers1 = np.dot(final_prediction_1[1], Predictions)\n",
    "test_answers2 = np.dot(final_prediction_2[1], Predictions)\n",
    "test_answers3 = np.dot(final_prediction_3[1], Predictions)\n",
    "Final_answers = [Stack_pred_test, test_answers1, test_answers2, test_answers3]"
   ]
  },
  {
   "cell_type": "code",
   "execution_count": 75,
   "metadata": {
    "collapsed": true
   },
   "outputs": [],
   "source": [
    "final_prediction_test = np.dot(FINAL_PREDICT[1], Final_answers)"
   ]
  },
  {
   "cell_type": "code",
   "execution_count": 76,
   "metadata": {
    "collapsed": true
   },
   "outputs": [],
   "source": [
    "submission = pd.concat((test['player_ID'], pd.Series(final_prediction_test )), axis = 1)"
   ]
  },
  {
   "cell_type": "code",
   "execution_count": 77,
   "metadata": {
    "collapsed": true
   },
   "outputs": [],
   "source": [
    "submission.to_csv('./data/test_submission.csv', index=False)"
   ]
  },
  {
   "cell_type": "code",
   "execution_count": 78,
   "metadata": {
    "collapsed": true
   },
   "outputs": [],
   "source": [
    "my_submission = pd.read_csv('./data/test_submission.csv')"
   ]
  },
  {
   "cell_type": "code",
   "execution_count": 79,
   "metadata": {},
   "outputs": [
    {
     "data": {
      "text/html": [
       "<div>\n",
       "<style>\n",
       "    .dataframe thead tr:only-child th {\n",
       "        text-align: right;\n",
       "    }\n",
       "\n",
       "    .dataframe thead th {\n",
       "        text-align: left;\n",
       "    }\n",
       "\n",
       "    .dataframe tbody tr th {\n",
       "        vertical-align: top;\n",
       "    }\n",
       "</style>\n",
       "<table border=\"1\" class=\"dataframe\">\n",
       "  <thead>\n",
       "    <tr style=\"text-align: right;\">\n",
       "      <th></th>\n",
       "      <th>player_ID</th>\n",
       "      <th>0</th>\n",
       "    </tr>\n",
       "  </thead>\n",
       "  <tbody>\n",
       "    <tr>\n",
       "      <th>0</th>\n",
       "      <td>9991</td>\n",
       "      <td>-8033.111034</td>\n",
       "    </tr>\n",
       "    <tr>\n",
       "      <th>1</th>\n",
       "      <td>13037</td>\n",
       "      <td>-10852.444449</td>\n",
       "    </tr>\n",
       "    <tr>\n",
       "      <th>2</th>\n",
       "      <td>1254</td>\n",
       "      <td>-7540.611491</td>\n",
       "    </tr>\n",
       "    <tr>\n",
       "      <th>3</th>\n",
       "      <td>19697</td>\n",
       "      <td>-11382.711132</td>\n",
       "    </tr>\n",
       "    <tr>\n",
       "      <th>4</th>\n",
       "      <td>12390</td>\n",
       "      <td>-11031.735527</td>\n",
       "    </tr>\n",
       "  </tbody>\n",
       "</table>\n",
       "</div>"
      ],
      "text/plain": [
       "   player_ID             0\n",
       "0       9991  -8033.111034\n",
       "1      13037 -10852.444449\n",
       "2       1254  -7540.611491\n",
       "3      19697 -11382.711132\n",
       "4      12390 -11031.735527"
      ]
     },
     "execution_count": 79,
     "metadata": {},
     "output_type": "execute_result"
    }
   ],
   "source": [
    "my_submission.head()"
   ]
  },
  {
   "cell_type": "code",
   "execution_count": 80,
   "metadata": {
    "collapsed": true
   },
   "outputs": [],
   "source": [
    "my_submission = pd.read_csv('./data/test_submission.csv')\n",
    "true_submssion = pd.read_csv('./data/test_submission.csv')"
   ]
  },
  {
   "cell_type": "code",
   "execution_count": 81,
   "metadata": {
    "collapsed": true
   },
   "outputs": [],
   "source": [
    "assert sum(my_submission['player_ID'].values != true_submssion['player_ID'].values) == 0"
   ]
  },
  {
   "cell_type": "code",
   "execution_count": 341,
   "metadata": {},
   "outputs": [
    {
     "name": "stdout",
     "output_type": "stream",
     "text": [
      "0.0\n"
     ]
    }
   ],
   "source": [
    "mse = mean_squared_error(my_submission['player_ID'], true_submssion['player_ID'])\n",
    "print(mse)"
   ]
  }
 ],
 "metadata": {
  "kernelspec": {
   "display_name": "Python 3",
   "language": "python",
   "name": "python3"
  },
  "language_info": {
   "codemirror_mode": {
    "name": "ipython",
    "version": 3
   },
   "file_extension": ".py",
   "mimetype": "text/x-python",
   "name": "python",
   "nbconvert_exporter": "python",
   "pygments_lexer": "ipython3",
   "version": "3.6.3"
  }
 },
 "nbformat": 4,
 "nbformat_minor": 2
}
